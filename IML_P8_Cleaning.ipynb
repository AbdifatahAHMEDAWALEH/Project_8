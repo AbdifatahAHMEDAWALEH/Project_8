{
  "nbformat": 4,
  "nbformat_minor": 0,
  "metadata": {
    "colab": {
      "name": "IML_P8_Cleaning.ipynb",
      "provenance": [],
      "toc_visible": true
    },
    "kernelspec": {
      "name": "python3",
      "display_name": "Python 3"
    },
    "language_info": {
      "name": "python"
    }
  },
  "cells": [
    {
      "cell_type": "code",
      "execution_count": 2,
      "metadata": {
        "colab": {
          "base_uri": "https://localhost:8080/"
        },
        "id": "ezOZponYGUEo",
        "outputId": "6daff71c-b6bb-4a0e-f10b-5db552cdf081"
      },
      "outputs": [
        {
          "output_type": "stream",
          "name": "stdout",
          "text": [
            "Mounted at /content/drive\n"
          ]
        }
      ],
      "source": [
        "from google.colab import drive\n",
        "drive.mount('/content/drive')"
      ]
    },
    {
      "cell_type": "code",
      "source": [
        "import pandas as pd\n",
        "import numpy as np"
      ],
      "metadata": {
        "id": "B4eJVjvoMgBY"
      },
      "execution_count": 3,
      "outputs": []
    },
    {
      "cell_type": "code",
      "source": [
        "train_data = pd.read_csv('/content/drive/My Drive/Parcours_IML/IML_Projet_8/Data/train.csv',sep=',')\n",
        "test_data = pd.read_csv('/content/drive/My Drive/Parcours_IML/IML_Projet_8/Data/test.csv',sep=',')"
      ],
      "metadata": {
        "id": "xY5PvgPRGd_H"
      },
      "execution_count": 4,
      "outputs": []
    },
    {
      "cell_type": "markdown",
      "source": [
        "# Cleaning the training data"
      ],
      "metadata": {
        "id": "5zgcZDj450NZ"
      }
    },
    {
      "cell_type": "markdown",
      "source": [
        "## Deleting stop words"
      ],
      "metadata": {
        "id": "z5L_hkrZ53E-"
      }
    },
    {
      "cell_type": "code",
      "source": [
        "import nltk\n",
        "from nltk.corpus import stopwords\n",
        "nltk.download('stopwords')"
      ],
      "metadata": {
        "colab": {
          "base_uri": "https://localhost:8080/"
        },
        "id": "P47DmJyM6HFj",
        "outputId": "49237efd-6c72-445b-818b-4234e424a53a"
      },
      "execution_count": 5,
      "outputs": [
        {
          "output_type": "stream",
          "name": "stdout",
          "text": [
            "[nltk_data] Downloading package stopwords to /root/nltk_data...\n",
            "[nltk_data]   Unzipping corpora/stopwords.zip.\n"
          ]
        },
        {
          "output_type": "execute_result",
          "data": {
            "text/plain": [
              "True"
            ]
          },
          "metadata": {},
          "execution_count": 5
        }
      ]
    },
    {
      "cell_type": "code",
      "source": [
        "# creating a list of element to delete other than nltk.corpus.stopwords\n",
        "import string\n",
        "word_to_delete = ['I','The','A','The','This','A','You','My','We']\n",
        "special = string.punctuation\n",
        "element_to_delete = []\n",
        "for element in word_to_delete:\n",
        "  element_to_delete.append(element)\n",
        "for element in special:\n",
        "  element_to_delete.append(element)"
      ],
      "metadata": {
        "id": "D9xZAYd56yv4"
      },
      "execution_count": 6,
      "outputs": []
    },
    {
      "cell_type": "code",
      "source": [
        "to_be_cleaned = train_data.text.str.split()\n",
        "def remove_stopwords(doc):\n",
        "    return \" \".join([word for word in doc if word not in stopwords.words('english')])\n",
        "def remove_element(doc):\n",
        "    return \" \".join([word for word in doc if word not in element_to_delete])\n",
        "first_step = []\n",
        "for i in range(len(to_be_cleaned)):\n",
        "  first_step.append(remove_stopwords(to_be_cleaned[i]))\n",
        "second_step = []\n",
        "for element in first_step:\n",
        "  second_step.append(element.split())\n",
        "cleaned_text = []\n",
        "for i in range(len(second_step)):\n",
        "  cleaned_text.append(remove_element(second_step[i]))"
      ],
      "metadata": {
        "id": "5wU7C4IhMdbr"
      },
      "execution_count": 7,
      "outputs": []
    },
    {
      "cell_type": "markdown",
      "source": [
        "## Word stemmatization"
      ],
      "metadata": {
        "id": "GE3euj8V7b-F"
      }
    },
    {
      "cell_type": "code",
      "source": [
        "from nltk.stem.snowball import SnowballStemmer\n",
        "stemmer = SnowballStemmer(\"english\")\n",
        "def text_stematization(data):\n",
        "  text = data['text']\n",
        "  for i in range(len(text)):\n",
        "    for j in range(len(text[i])):\n",
        "      text[i][j] = stemmer.stem(text[i][j])\n",
        "  data['text']=text\n",
        "  return data"
      ],
      "metadata": {
        "id": "onDNBjHJ7Wy4"
      },
      "execution_count": 8,
      "outputs": []
    },
    {
      "cell_type": "code",
      "source": [
        "Cleaning_df = pd.DataFrame()\n",
        "Cleaning_df['text'] = pd.Series(cleaned_text).str.split()\n",
        "Cleaning_df = text_stematization(Cleaning_df)\n",
        "Cleaning_df.head(1)\n"
      ],
      "metadata": {
        "colab": {
          "base_uri": "https://localhost:8080/",
          "height": 81
        },
        "id": "n3nNfzo66Fmz",
        "outputId": "356854a2-99e9-4a63-b47c-8da1aa23fd41"
      },
      "execution_count": 9,
      "outputs": [
        {
          "output_type": "execute_result",
          "data": {
            "text/plain": [
              "                                                text\n",
              "0  [our, deed, reason, #earthquak, may, allah, fo..."
            ],
            "text/html": [
              "\n",
              "  <div id=\"df-00aeb7a4-8e92-4c60-9772-28efdedd23b3\">\n",
              "    <div class=\"colab-df-container\">\n",
              "      <div>\n",
              "<style scoped>\n",
              "    .dataframe tbody tr th:only-of-type {\n",
              "        vertical-align: middle;\n",
              "    }\n",
              "\n",
              "    .dataframe tbody tr th {\n",
              "        vertical-align: top;\n",
              "    }\n",
              "\n",
              "    .dataframe thead th {\n",
              "        text-align: right;\n",
              "    }\n",
              "</style>\n",
              "<table border=\"1\" class=\"dataframe\">\n",
              "  <thead>\n",
              "    <tr style=\"text-align: right;\">\n",
              "      <th></th>\n",
              "      <th>text</th>\n",
              "    </tr>\n",
              "  </thead>\n",
              "  <tbody>\n",
              "    <tr>\n",
              "      <th>0</th>\n",
              "      <td>[our, deed, reason, #earthquak, may, allah, fo...</td>\n",
              "    </tr>\n",
              "  </tbody>\n",
              "</table>\n",
              "</div>\n",
              "      <button class=\"colab-df-convert\" onclick=\"convertToInteractive('df-00aeb7a4-8e92-4c60-9772-28efdedd23b3')\"\n",
              "              title=\"Convert this dataframe to an interactive table.\"\n",
              "              style=\"display:none;\">\n",
              "        \n",
              "  <svg xmlns=\"http://www.w3.org/2000/svg\" height=\"24px\"viewBox=\"0 0 24 24\"\n",
              "       width=\"24px\">\n",
              "    <path d=\"M0 0h24v24H0V0z\" fill=\"none\"/>\n",
              "    <path d=\"M18.56 5.44l.94 2.06.94-2.06 2.06-.94-2.06-.94-.94-2.06-.94 2.06-2.06.94zm-11 1L8.5 8.5l.94-2.06 2.06-.94-2.06-.94L8.5 2.5l-.94 2.06-2.06.94zm10 10l.94 2.06.94-2.06 2.06-.94-2.06-.94-.94-2.06-.94 2.06-2.06.94z\"/><path d=\"M17.41 7.96l-1.37-1.37c-.4-.4-.92-.59-1.43-.59-.52 0-1.04.2-1.43.59L10.3 9.45l-7.72 7.72c-.78.78-.78 2.05 0 2.83L4 21.41c.39.39.9.59 1.41.59.51 0 1.02-.2 1.41-.59l7.78-7.78 2.81-2.81c.8-.78.8-2.07 0-2.86zM5.41 20L4 18.59l7.72-7.72 1.47 1.35L5.41 20z\"/>\n",
              "  </svg>\n",
              "      </button>\n",
              "      \n",
              "  <style>\n",
              "    .colab-df-container {\n",
              "      display:flex;\n",
              "      flex-wrap:wrap;\n",
              "      gap: 12px;\n",
              "    }\n",
              "\n",
              "    .colab-df-convert {\n",
              "      background-color: #E8F0FE;\n",
              "      border: none;\n",
              "      border-radius: 50%;\n",
              "      cursor: pointer;\n",
              "      display: none;\n",
              "      fill: #1967D2;\n",
              "      height: 32px;\n",
              "      padding: 0 0 0 0;\n",
              "      width: 32px;\n",
              "    }\n",
              "\n",
              "    .colab-df-convert:hover {\n",
              "      background-color: #E2EBFA;\n",
              "      box-shadow: 0px 1px 2px rgba(60, 64, 67, 0.3), 0px 1px 3px 1px rgba(60, 64, 67, 0.15);\n",
              "      fill: #174EA6;\n",
              "    }\n",
              "\n",
              "    [theme=dark] .colab-df-convert {\n",
              "      background-color: #3B4455;\n",
              "      fill: #D2E3FC;\n",
              "    }\n",
              "\n",
              "    [theme=dark] .colab-df-convert:hover {\n",
              "      background-color: #434B5C;\n",
              "      box-shadow: 0px 1px 3px 1px rgba(0, 0, 0, 0.15);\n",
              "      filter: drop-shadow(0px 1px 2px rgba(0, 0, 0, 0.3));\n",
              "      fill: #FFFFFF;\n",
              "    }\n",
              "  </style>\n",
              "\n",
              "      <script>\n",
              "        const buttonEl =\n",
              "          document.querySelector('#df-00aeb7a4-8e92-4c60-9772-28efdedd23b3 button.colab-df-convert');\n",
              "        buttonEl.style.display =\n",
              "          google.colab.kernel.accessAllowed ? 'block' : 'none';\n",
              "\n",
              "        async function convertToInteractive(key) {\n",
              "          const element = document.querySelector('#df-00aeb7a4-8e92-4c60-9772-28efdedd23b3');\n",
              "          const dataTable =\n",
              "            await google.colab.kernel.invokeFunction('convertToInteractive',\n",
              "                                                     [key], {});\n",
              "          if (!dataTable) return;\n",
              "\n",
              "          const docLinkHtml = 'Like what you see? Visit the ' +\n",
              "            '<a target=\"_blank\" href=https://colab.research.google.com/notebooks/data_table.ipynb>data table notebook</a>'\n",
              "            + ' to learn more about interactive tables.';\n",
              "          element.innerHTML = '';\n",
              "          dataTable['output_type'] = 'display_data';\n",
              "          await google.colab.output.renderOutput(dataTable, element);\n",
              "          const docLink = document.createElement('div');\n",
              "          docLink.innerHTML = docLinkHtml;\n",
              "          element.appendChild(docLink);\n",
              "        }\n",
              "      </script>\n",
              "    </div>\n",
              "  </div>\n",
              "  "
            ]
          },
          "metadata": {},
          "execution_count": 9
        }
      ]
    },
    {
      "cell_type": "markdown",
      "source": [
        "## Words Lemmatization"
      ],
      "metadata": {
        "id": "yeOiBxS89mP6"
      }
    },
    {
      "cell_type": "code",
      "source": [
        "nltk.download('wordnet')"
      ],
      "metadata": {
        "colab": {
          "base_uri": "https://localhost:8080/"
        },
        "id": "83-QtAxG9A9c",
        "outputId": "213f8d09-ca88-415a-ffd4-478f7481f789"
      },
      "execution_count": 10,
      "outputs": [
        {
          "output_type": "stream",
          "name": "stdout",
          "text": [
            "[nltk_data] Downloading package wordnet to /root/nltk_data...\n",
            "[nltk_data]   Unzipping corpora/wordnet.zip.\n"
          ]
        },
        {
          "output_type": "execute_result",
          "data": {
            "text/plain": [
              "True"
            ]
          },
          "metadata": {},
          "execution_count": 10
        }
      ]
    },
    {
      "cell_type": "code",
      "source": [
        "# Lematization\n",
        "from nltk.stem import WordNetLemmatizer\n",
        "lemmatizer = WordNetLemmatizer()\n",
        "def text_lemmatization(data):\n",
        "  text = data['text']\n",
        "  for i in range(len(text)):\n",
        "    for j in range(len(text[i])):\n",
        "      text[i][j] = lemmatizer.lemmatize(text[i][j])\n",
        "  data['text']=text\n",
        "  return data"
      ],
      "metadata": {
        "id": "Zjwv-Ia5EDGY"
      },
      "execution_count": 11,
      "outputs": []
    },
    {
      "cell_type": "code",
      "source": [
        "Cleaning_df = text_lemmatization(Cleaning_df)\n",
        "Cleaning_df.head(1)"
      ],
      "metadata": {
        "colab": {
          "base_uri": "https://localhost:8080/",
          "height": 81
        },
        "id": "bZ1VxshCEEIQ",
        "outputId": "37ffbf7b-399d-4fd8-ea0b-ef64567a9869"
      },
      "execution_count": 12,
      "outputs": [
        {
          "output_type": "execute_result",
          "data": {
            "text/plain": [
              "                                                text\n",
              "0  [our, deed, reason, #earthquak, may, allah, fo..."
            ],
            "text/html": [
              "\n",
              "  <div id=\"df-be90786f-2fc5-4128-b9d5-1f7762a10d12\">\n",
              "    <div class=\"colab-df-container\">\n",
              "      <div>\n",
              "<style scoped>\n",
              "    .dataframe tbody tr th:only-of-type {\n",
              "        vertical-align: middle;\n",
              "    }\n",
              "\n",
              "    .dataframe tbody tr th {\n",
              "        vertical-align: top;\n",
              "    }\n",
              "\n",
              "    .dataframe thead th {\n",
              "        text-align: right;\n",
              "    }\n",
              "</style>\n",
              "<table border=\"1\" class=\"dataframe\">\n",
              "  <thead>\n",
              "    <tr style=\"text-align: right;\">\n",
              "      <th></th>\n",
              "      <th>text</th>\n",
              "    </tr>\n",
              "  </thead>\n",
              "  <tbody>\n",
              "    <tr>\n",
              "      <th>0</th>\n",
              "      <td>[our, deed, reason, #earthquak, may, allah, fo...</td>\n",
              "    </tr>\n",
              "  </tbody>\n",
              "</table>\n",
              "</div>\n",
              "      <button class=\"colab-df-convert\" onclick=\"convertToInteractive('df-be90786f-2fc5-4128-b9d5-1f7762a10d12')\"\n",
              "              title=\"Convert this dataframe to an interactive table.\"\n",
              "              style=\"display:none;\">\n",
              "        \n",
              "  <svg xmlns=\"http://www.w3.org/2000/svg\" height=\"24px\"viewBox=\"0 0 24 24\"\n",
              "       width=\"24px\">\n",
              "    <path d=\"M0 0h24v24H0V0z\" fill=\"none\"/>\n",
              "    <path d=\"M18.56 5.44l.94 2.06.94-2.06 2.06-.94-2.06-.94-.94-2.06-.94 2.06-2.06.94zm-11 1L8.5 8.5l.94-2.06 2.06-.94-2.06-.94L8.5 2.5l-.94 2.06-2.06.94zm10 10l.94 2.06.94-2.06 2.06-.94-2.06-.94-.94-2.06-.94 2.06-2.06.94z\"/><path d=\"M17.41 7.96l-1.37-1.37c-.4-.4-.92-.59-1.43-.59-.52 0-1.04.2-1.43.59L10.3 9.45l-7.72 7.72c-.78.78-.78 2.05 0 2.83L4 21.41c.39.39.9.59 1.41.59.51 0 1.02-.2 1.41-.59l7.78-7.78 2.81-2.81c.8-.78.8-2.07 0-2.86zM5.41 20L4 18.59l7.72-7.72 1.47 1.35L5.41 20z\"/>\n",
              "  </svg>\n",
              "      </button>\n",
              "      \n",
              "  <style>\n",
              "    .colab-df-container {\n",
              "      display:flex;\n",
              "      flex-wrap:wrap;\n",
              "      gap: 12px;\n",
              "    }\n",
              "\n",
              "    .colab-df-convert {\n",
              "      background-color: #E8F0FE;\n",
              "      border: none;\n",
              "      border-radius: 50%;\n",
              "      cursor: pointer;\n",
              "      display: none;\n",
              "      fill: #1967D2;\n",
              "      height: 32px;\n",
              "      padding: 0 0 0 0;\n",
              "      width: 32px;\n",
              "    }\n",
              "\n",
              "    .colab-df-convert:hover {\n",
              "      background-color: #E2EBFA;\n",
              "      box-shadow: 0px 1px 2px rgba(60, 64, 67, 0.3), 0px 1px 3px 1px rgba(60, 64, 67, 0.15);\n",
              "      fill: #174EA6;\n",
              "    }\n",
              "\n",
              "    [theme=dark] .colab-df-convert {\n",
              "      background-color: #3B4455;\n",
              "      fill: #D2E3FC;\n",
              "    }\n",
              "\n",
              "    [theme=dark] .colab-df-convert:hover {\n",
              "      background-color: #434B5C;\n",
              "      box-shadow: 0px 1px 3px 1px rgba(0, 0, 0, 0.15);\n",
              "      filter: drop-shadow(0px 1px 2px rgba(0, 0, 0, 0.3));\n",
              "      fill: #FFFFFF;\n",
              "    }\n",
              "  </style>\n",
              "\n",
              "      <script>\n",
              "        const buttonEl =\n",
              "          document.querySelector('#df-be90786f-2fc5-4128-b9d5-1f7762a10d12 button.colab-df-convert');\n",
              "        buttonEl.style.display =\n",
              "          google.colab.kernel.accessAllowed ? 'block' : 'none';\n",
              "\n",
              "        async function convertToInteractive(key) {\n",
              "          const element = document.querySelector('#df-be90786f-2fc5-4128-b9d5-1f7762a10d12');\n",
              "          const dataTable =\n",
              "            await google.colab.kernel.invokeFunction('convertToInteractive',\n",
              "                                                     [key], {});\n",
              "          if (!dataTable) return;\n",
              "\n",
              "          const docLinkHtml = 'Like what you see? Visit the ' +\n",
              "            '<a target=\"_blank\" href=https://colab.research.google.com/notebooks/data_table.ipynb>data table notebook</a>'\n",
              "            + ' to learn more about interactive tables.';\n",
              "          element.innerHTML = '';\n",
              "          dataTable['output_type'] = 'display_data';\n",
              "          await google.colab.output.renderOutput(dataTable, element);\n",
              "          const docLink = document.createElement('div');\n",
              "          docLink.innerHTML = docLinkHtml;\n",
              "          element.appendChild(docLink);\n",
              "        }\n",
              "      </script>\n",
              "    </div>\n",
              "  </div>\n",
              "  "
            ]
          },
          "metadata": {},
          "execution_count": 12
        }
      ]
    },
    {
      "cell_type": "markdown",
      "source": [
        "## Removing URL, Emoji & Punctuation"
      ],
      "metadata": {
        "id": "H_eCoS6LLHvG"
      }
    },
    {
      "cell_type": "code",
      "source": [
        "def remaking_str(doc):\n",
        "  return \" \".join([word for word in doc])\n",
        "Cleaning_df.text = Cleaning_df.text.apply(lambda x: remaking_str(x))\n",
        "import re\n",
        "def remove_URL(text):\n",
        "    url = re.compile(r'https?://\\S+|www\\.\\S+')\n",
        "    return url.sub(r'',text)\n",
        "Cleaning_df.text=Cleaning_df.text.apply(lambda x : remove_URL(x))\n",
        "\n",
        "def remove_emoji(text):\n",
        "    emoji_pattern = re.compile(\"[\"\n",
        "                           u\"\\U0001F600-\\U0001F64F\"  # emoticons\n",
        "                           u\"\\U0001F300-\\U0001F5FF\"  # symbols & pictographs\n",
        "                           u\"\\U0001F680-\\U0001F6FF\"  # transport & map symbols\n",
        "                           u\"\\U0001F1E0-\\U0001F1FF\"  # flags (iOS)\n",
        "                           u\"\\U00002702-\\U000027B0\"\n",
        "                           u\"\\U000024C2-\\U0001F251\"\n",
        "                           \"]+\", flags=re.UNICODE)\n",
        "    return emoji_pattern.sub(r'', text)\n",
        "\n",
        "Cleaning_df.text=Cleaning_df.text.apply(lambda x : remove_emoji(x))\n",
        "\n",
        "def remove_punct(text):\n",
        "    table=str.maketrans('','',string.punctuation)\n",
        "    return text.translate(table)\n",
        "Cleaning_df.text=Cleaning_df.text.apply(lambda x : remove_punct(x))"
      ],
      "metadata": {
        "id": "EYF2yxkwLBkU"
      },
      "execution_count": 13,
      "outputs": []
    },
    {
      "cell_type": "markdown",
      "source": [
        "to check if our cleaning, we will compare the purcentage of coverage of GloVe word embedding model"
      ],
      "metadata": {
        "id": "f0EcE3oiFCSs"
      }
    },
    {
      "cell_type": "markdown",
      "source": [
        "## Compraring word coverage of GloVe"
      ],
      "metadata": {
        "id": "cnTZKzb_KKGI"
      }
    },
    {
      "cell_type": "code",
      "source": [
        "embeddings_index = dict()\n",
        "f = open('/content/drive/My Drive/Parcours_IML/IML_Projet_8/Pretrained_word_embedding/glove.6B.100d.txt')\n",
        "for line in f:\n",
        "\tvalues = line.split()\n",
        "\tword = values[0]\n",
        "\tcoefs = np.asarray(values[1:], dtype='float32')\n",
        "\tembeddings_index[word] = coefs\n",
        "f.close()\n",
        "print('Loaded %s word vectors.' % len(embeddings_index))\n",
        "\n",
        "\n",
        "def build_vocab(X):\n",
        "    \n",
        "    tweets = X.apply(lambda s: s.split()).values      \n",
        "    vocab = {}\n",
        "    \n",
        "    for tweet in tweets:\n",
        "        for word in tweet:\n",
        "            try:\n",
        "                vocab[word] += 1\n",
        "            except KeyError:\n",
        "                vocab[word] = 1                \n",
        "    return vocab\n",
        "\n",
        "\n",
        "import operator\n",
        "from operator import itemgetter\n",
        "def check_embeddings_coverage(X, embeddings):\n",
        "    \n",
        "    vocab = build_vocab(X)    \n",
        "    \n",
        "    covered = {}\n",
        "    oov = {}    \n",
        "    n_covered = 0\n",
        "    n_oov = 0\n",
        "    \n",
        "    for word in vocab:\n",
        "        try:\n",
        "            covered[word] = embeddings[word]\n",
        "            n_covered += vocab[word]\n",
        "        except:\n",
        "            oov[word] = vocab[word]\n",
        "            n_oov += vocab[word]\n",
        "            \n",
        "    vocab_coverage = len(covered) / len(vocab)\n",
        "    text_coverage = (n_covered / (n_covered + n_oov))\n",
        "    \n",
        "    sorted_oov = sorted(oov.items(), key=operator.itemgetter(1))[::-1]\n",
        "    return sorted_oov, vocab_coverage, text_coverage"
      ],
      "metadata": {
        "colab": {
          "base_uri": "https://localhost:8080/"
        },
        "id": "kbp6OQ3nELgU",
        "outputId": "ee101e43-5f02-4993-c201-17303ff83104"
      },
      "execution_count": 14,
      "outputs": [
        {
          "output_type": "stream",
          "name": "stdout",
          "text": [
            "Loaded 400000 word vectors.\n"
          ]
        }
      ]
    },
    {
      "cell_type": "code",
      "source": [
        "train_glove_oov, train_glove_vocab_coverage, train_glove_text_coverage = check_embeddings_coverage(train_data['text'], embeddings_index)\n",
        "print('Before cleaning, GloVe Embeddings cover {:.2%} of vocabulary and {:.2%} of text in Training Set'.format(train_glove_vocab_coverage, train_glove_text_coverage))"
      ],
      "metadata": {
        "colab": {
          "base_uri": "https://localhost:8080/"
        },
        "id": "wu8DkYXCOhjs",
        "outputId": "7893b643-b03f-42ab-b27f-beb6e50921c9"
      },
      "execution_count": 15,
      "outputs": [
        {
          "output_type": "stream",
          "name": "stdout",
          "text": [
            "Before cleaning, GloVe Embeddings cover 23.64% of vocabulary and 56.70% of text in Training Set\n"
          ]
        }
      ]
    },
    {
      "cell_type": "code",
      "source": [
        "train_glove_oov, train_glove_vocab_coverage, train_glove_text_coverage = check_embeddings_coverage(Cleaning_df['text'], embeddings_index)\n",
        "print('After cleaning, GloVe Embeddings cover {:.2%} of vocabulary and {:.2%} of text in Training Set'.format(train_glove_vocab_coverage, train_glove_text_coverage))"
      ],
      "metadata": {
        "colab": {
          "base_uri": "https://localhost:8080/"
        },
        "id": "eG6FHnVDN5n0",
        "outputId": "91134810-741c-48d3-e4e8-e22c6982e5ea"
      },
      "execution_count": 16,
      "outputs": [
        {
          "output_type": "stream",
          "name": "stdout",
          "text": [
            "After cleaning, GloVe Embeddings cover 54.82% of vocabulary and 77.36% of text in Training Set\n"
          ]
        }
      ]
    },
    {
      "cell_type": "markdown",
      "source": [
        "now let's save the cleaned data for next step "
      ],
      "metadata": {
        "id": "OrG-rMwXPnhI"
      }
    },
    {
      "cell_type": "markdown",
      "source": [
        "# Saving the cleaned training data"
      ],
      "metadata": {
        "id": "pyO8pm8q31n3"
      }
    },
    {
      "cell_type": "code",
      "source": [
        "cleaned_data = pd.DataFrame()\n",
        "cleaned_data['text'] = Cleaning_df.text\n",
        "cleaned_data['keyword']= train_data.keyword\n",
        "cleaned_data['keyword'] = cleaned_data['keyword'].fillna('no_keyword')\n",
        "cleaned_data['target'] = train_data.target\n",
        "cleaned_data.to_csv(r'/content/drive/My Drive/Parcours_IML/IML_Projet_8/Data/cleaned_dataset.csv', index = False)"
      ],
      "metadata": {
        "id": "OYOSa6lA3Pvv"
      },
      "execution_count": 17,
      "outputs": []
    },
    {
      "cell_type": "markdown",
      "source": [
        "# Cleaning the test_data"
      ],
      "metadata": {
        "id": "JBklmwXyMFmw"
      }
    },
    {
      "cell_type": "code",
      "source": [
        "to_be_cleaned = test_data.text.str.split()\n",
        "def remove_stopwords(doc):\n",
        "    return \" \".join([word for word in doc if word not in stopwords.words('english')])\n",
        "def remove_element(doc):\n",
        "    return \" \".join([word for word in doc if word not in element_to_delete])\n",
        "first_step = []\n",
        "for i in range(len(to_be_cleaned)):\n",
        "  first_step.append(remove_stopwords(to_be_cleaned[i]))\n",
        "second_step = []\n",
        "for element in first_step:\n",
        "  second_step.append(element.split())\n",
        "cleaned_text = []\n",
        "for i in range(len(second_step)):\n",
        "  cleaned_text.append(remove_element(second_step[i]))"
      ],
      "metadata": {
        "id": "D37UbiPd3_4t"
      },
      "execution_count": 18,
      "outputs": []
    },
    {
      "cell_type": "code",
      "source": [
        "Cleaning_df = pd.DataFrame()\n",
        "Cleaning_df['text'] = pd.Series(cleaned_text).str.split()\n",
        "Cleaning_df = text_stematization(Cleaning_df)\n",
        "Cleaning_df = text_lemmatization(Cleaning_df)"
      ],
      "metadata": {
        "id": "wBNXgseXNahx"
      },
      "execution_count": 19,
      "outputs": []
    },
    {
      "cell_type": "code",
      "source": [
        "def remaking_str(doc):\n",
        "  return \" \".join([word for word in doc])\n",
        "Cleaning_df.text = Cleaning_df.text.apply(lambda x: remaking_str(x))\n",
        "import re\n",
        "def remove_URL(text):\n",
        "    url = re.compile(r'https?://\\S+|www\\.\\S+')\n",
        "    return url.sub(r'',text)\n",
        "Cleaning_df.text=Cleaning_df.text.apply(lambda x : remove_URL(x))\n",
        "\n",
        "def remove_emoji(text):\n",
        "    emoji_pattern = re.compile(\"[\"\n",
        "                           u\"\\U0001F600-\\U0001F64F\"  # emoticons\n",
        "                           u\"\\U0001F300-\\U0001F5FF\"  # symbols & pictographs\n",
        "                           u\"\\U0001F680-\\U0001F6FF\"  # transport & map symbols\n",
        "                           u\"\\U0001F1E0-\\U0001F1FF\"  # flags (iOS)\n",
        "                           u\"\\U00002702-\\U000027B0\"\n",
        "                           u\"\\U000024C2-\\U0001F251\"\n",
        "                           \"]+\", flags=re.UNICODE)\n",
        "    return emoji_pattern.sub(r'', text)\n",
        "\n",
        "Cleaning_df.text=Cleaning_df.text.apply(lambda x : remove_emoji(x))\n",
        "\n",
        "def remove_punct(text):\n",
        "    table=str.maketrans('','',string.punctuation)\n",
        "    return text.translate(table)\n",
        "Cleaning_df.text=Cleaning_df.text.apply(lambda x : remove_punct(x))"
      ],
      "metadata": {
        "id": "YcvfReRFNamT"
      },
      "execution_count": 20,
      "outputs": []
    },
    {
      "cell_type": "code",
      "source": [
        "cleaned_data = pd.DataFrame()\n",
        "cleaned_data['text'] = Cleaning_df.text\n",
        "cleaned_data.to_csv(r'/content/drive/My Drive/Parcours_IML/IML_Projet_8/Data/cleaned_validation_dataset.csv', index = False)"
      ],
      "metadata": {
        "id": "NwTFIcEYNap5"
      },
      "execution_count": 21,
      "outputs": []
    },
    {
      "cell_type": "code",
      "source": [
        ""
      ],
      "metadata": {
        "id": "3GBT60JWO1JH"
      },
      "execution_count": null,
      "outputs": []
    }
  ]
}