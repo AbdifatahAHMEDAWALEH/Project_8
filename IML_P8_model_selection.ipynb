{
  "nbformat": 4,
  "nbformat_minor": 0,
  "metadata": {
    "colab": {
      "name": "IML_P8_model_selection.ipynb",
      "provenance": [],
      "toc_visible": true
    },
    "kernelspec": {
      "name": "python3",
      "display_name": "Python 3"
    },
    "language_info": {
      "name": "python"
    },
    "accelerator": "GPU"
  },
  "cells": [
    {
      "cell_type": "code",
      "execution_count": 1,
      "metadata": {
        "colab": {
          "base_uri": "https://localhost:8080/"
        },
        "id": "xRjXs4Y-59E6",
        "outputId": "16d90ef5-eeac-4e24-f35f-c8a0667d36b8"
      },
      "outputs": [
        {
          "output_type": "stream",
          "name": "stdout",
          "text": [
            "Drive already mounted at /content/drive; to attempt to forcibly remount, call drive.mount(\"/content/drive\", force_remount=True).\n"
          ]
        }
      ],
      "source": [
        "from google.colab import drive\n",
        "drive.mount('/content/drive')"
      ]
    },
    {
      "cell_type": "code",
      "source": [
        "import pandas as pd\n",
        "import numpy as np\n",
        "import tensorflow as tf\n",
        "from keras.preprocessing.text import Tokenizer\n",
        "from tensorflow.keras import Sequential\n",
        "from tensorflow.keras.layers import Dense, Embedding, Flatten\n",
        "from tensorflow.keras.layers import TextVectorization\n",
        "from tensorflow.keras.preprocessing.sequence import pad_sequences"
      ],
      "metadata": {
        "id": "ZpsqRZvH6pfD"
      },
      "execution_count": 2,
      "outputs": []
    },
    {
      "cell_type": "markdown",
      "source": [
        "# Loading Cleaned Dataset"
      ],
      "metadata": {
        "id": "uL44xCXd6XMF"
      }
    },
    {
      "cell_type": "code",
      "source": [
        "train_data = pd.read_csv('/content/drive/My Drive/Parcours_IML/IML_Projet_8/Data/cleaned_dataset.csv',sep=',')\n",
        "test_data = pd.read_csv('/content/drive/My Drive/Parcours_IML/IML_Projet_8/Data/cleaned_validation_dataset.csv',sep=',')"
      ],
      "metadata": {
        "id": "YUskDlgh6EH4"
      },
      "execution_count": 3,
      "outputs": []
    },
    {
      "cell_type": "markdown",
      "source": [
        "# Preparing data for the model"
      ],
      "metadata": {
        "id": "1P0kJH9x_k5L"
      }
    },
    {
      "cell_type": "code",
      "source": [
        "from sklearn.feature_extraction.text import CountVectorizer\n",
        "from sklearn.model_selection import train_test_split\n",
        "\n",
        "Y = train_data.target\n",
        "X = train_data.text\n",
        "\n",
        "X_train, X_test, y_train, y_test = train_test_split(X, Y, test_size=0.3, random_state=42)\n",
        "\n",
        "vectorizer = CountVectorizer()\n",
        "X_train_vec = vectorizer.fit_transform(X_train)\n",
        "X_test_vec = vectorizer.transform(X_test)\n"
      ],
      "metadata": {
        "id": "ywIkh1_36vT_"
      },
      "execution_count": 4,
      "outputs": []
    },
    {
      "cell_type": "markdown",
      "source": [
        "# SVC classifier"
      ],
      "metadata": {
        "id": "PDwwNarHAOhx"
      }
    },
    {
      "cell_type": "markdown",
      "source": [
        "## Fitting "
      ],
      "metadata": {
        "id": "eaktza3mBSP6"
      }
    },
    {
      "cell_type": "code",
      "source": [
        "# using Label Powerset\n",
        "from sklearn.svm import SVC\n",
        "# initialize label powerset multi-label classifier\n",
        "classifier = SVC()\n",
        "# train\n",
        "classifier.fit(X_train_vec, y_train)\n",
        "# predict\n",
        "predictions = classifier.predict(X_test_vec)\n",
        "\n",
        "from sklearn.metrics import f1_score\n",
        "f1_score(y_test, predictions)"
      ],
      "metadata": {
        "colab": {
          "base_uri": "https://localhost:8080/"
        },
        "id": "cbTIVvOFAB7o",
        "outputId": "93200ca7-1970-4cc7-a572-97b11e474a51"
      },
      "execution_count": 5,
      "outputs": [
        {
          "output_type": "execute_result",
          "data": {
            "text/plain": [
              "0.7268408551068882"
            ]
          },
          "metadata": {},
          "execution_count": 5
        }
      ]
    },
    {
      "cell_type": "markdown",
      "source": [
        "## Creating submission file"
      ],
      "metadata": {
        "id": "FZkCwfAOBVM6"
      }
    },
    {
      "cell_type": "code",
      "source": [
        "sub_data = vectorizer.transform(test_data.text)\n",
        "predictions = classifier.predict(sub_data)"
      ],
      "metadata": {
        "id": "3vRg35ZjAXEU"
      },
      "execution_count": 6,
      "outputs": []
    },
    {
      "cell_type": "code",
      "source": [
        "sample_sub=pd.read_csv('/content/drive/My Drive/Parcours_IML/IML_Projet_8/Data/sample_submission.csv')\n",
        "submission=pd.DataFrame()\n",
        "submission['id']=sample_sub.id.values.tolist()\n",
        "submission['target']=np.round(predictions).astype(int)\n",
        "submission.to_csv('/content/drive/My Drive/Parcours_IML/IML_Projet_8/Submission/sub_1.csv',index=False)"
      ],
      "metadata": {
        "id": "YYZ6UcihBjTC"
      },
      "execution_count": 7,
      "outputs": []
    },
    {
      "cell_type": "markdown",
      "source": [
        "the f1 score of this submission is \n",
        "\n",
        "![image.png](data:image/png;base64,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)\n",
        "\n",
        "let's see if we can improve this score with a deep learning model"
      ],
      "metadata": {
        "id": "wOpYXyCPDGOf"
      }
    },
    {
      "cell_type": "markdown",
      "source": [
        "# DL model with Embedding layer"
      ],
      "metadata": {
        "id": "cNTXBhNUDSWw"
      }
    },
    {
      "cell_type": "code",
      "source": [
        "my_tokenizer = tf.keras.preprocessing.text.Tokenizer()\n",
        "my_tokenizer.fit_on_texts(train_data.text)\n",
        "encoded_text = my_tokenizer.texts_to_sequences(train_data.text)\n",
        "vocab_size = len(my_tokenizer.word_index)+1\n",
        "padded_text = tf.keras.preprocessing.sequence.pad_sequences(encoded_text, padding = 'post')"
      ],
      "metadata": {
        "id": "VZAUxDioBnHi"
      },
      "execution_count": 8,
      "outputs": []
    },
    {
      "cell_type": "code",
      "source": [
        "from keras import backend as K\n",
        "\n",
        "def recall_m(y_true, y_pred):\n",
        "    true_positives = K.sum(K.round(K.clip(y_true * y_pred, 0, 1)))\n",
        "    possible_positives = K.sum(K.round(K.clip(y_true, 0, 1)))\n",
        "    recall = true_positives / (possible_positives + K.epsilon())\n",
        "    return recall\n",
        "\n",
        "def precision_m(y_true, y_pred):\n",
        "    true_positives = K.sum(K.round(K.clip(y_true * y_pred, 0, 1)))\n",
        "    predicted_positives = K.sum(K.round(K.clip(y_pred, 0, 1)))\n",
        "    precision = true_positives / (predicted_positives + K.epsilon())\n",
        "    return precision\n",
        "\n",
        "def f1(y_true, y_pred):\n",
        "    precision = precision_m(y_true, y_pred)\n",
        "    recall = recall_m(y_true, y_pred)\n",
        "    return 2*((precision*recall)/(precision+recall+K.epsilon()))"
      ],
      "metadata": {
        "id": "Zf03I7mpDv-1"
      },
      "execution_count": 9,
      "outputs": []
    },
    {
      "cell_type": "markdown",
      "source": [
        "## Building the model"
      ],
      "metadata": {
        "id": "ScP07ErAD5h8"
      }
    },
    {
      "cell_type": "code",
      "source": [
        "# word embedding model\n",
        "model = Sequential()\n",
        "model.add(Embedding(vocab_size, 16, input_length=len(padded_text[1])))\n",
        "model.add(Flatten())\n",
        "model.add(Dense(1, activation = 'sigmoid'))\n",
        "# compilaton\n",
        "model.compile(optimizer='adam', loss='binary_crossentropy',  metrics=['acc',f1,])\n",
        "# summary\n",
        "print(model.summary())"
      ],
      "metadata": {
        "colab": {
          "base_uri": "https://localhost:8080/"
        },
        "id": "_Of4QqbCDkHt",
        "outputId": "277c7ce6-62d3-4f3f-f576-33cee5f7eb90"
      },
      "execution_count": 10,
      "outputs": [
        {
          "output_type": "stream",
          "name": "stdout",
          "text": [
            "Model: \"sequential\"\n",
            "_________________________________________________________________\n",
            " Layer (type)                Output Shape              Param #   \n",
            "=================================================================\n",
            " embedding (Embedding)       (None, 27, 16)            257904    \n",
            "                                                                 \n",
            " flatten (Flatten)           (None, 432)               0         \n",
            "                                                                 \n",
            " dense (Dense)               (None, 1)                 433       \n",
            "                                                                 \n",
            "=================================================================\n",
            "Total params: 258,337\n",
            "Trainable params: 258,337\n",
            "Non-trainable params: 0\n",
            "_________________________________________________________________\n",
            "None\n"
          ]
        }
      ]
    },
    {
      "cell_type": "markdown",
      "source": [
        "## Fitting the model"
      ],
      "metadata": {
        "id": "h3LfMI1UD7dS"
      }
    },
    {
      "cell_type": "code",
      "source": [
        "model.fit(padded_text, train_data.target, epochs = 20,validation_split = 0.33, verbose = 1)\n",
        "loss, accuracy,f1_score = model.evaluate(padded_text, train_data.target)\n",
        "print('f1: %f' % (f1_score))\n",
        "print('accuracy: %f' % (accuracy*100))"
      ],
      "metadata": {
        "colab": {
          "base_uri": "https://localhost:8080/"
        },
        "id": "A_tJu5iXD1Sa",
        "outputId": "ea8a24e2-5fe3-4683-c2c6-a364f2273934"
      },
      "execution_count": 11,
      "outputs": [
        {
          "output_type": "stream",
          "name": "stdout",
          "text": [
            "Epoch 1/20\n",
            "160/160 [==============================] - 3s 6ms/step - loss: 0.6671 - acc: 0.5890 - f1: 0.0995 - val_loss: 0.6604 - val_acc: 0.5778 - val_f1: 0.0761\n",
            "Epoch 2/20\n",
            "160/160 [==============================] - 1s 5ms/step - loss: 0.5484 - acc: 0.7731 - f1: 0.6219 - val_loss: 0.5734 - val_acc: 0.7294 - val_f1: 0.4872\n",
            "Epoch 3/20\n",
            "160/160 [==============================] - 1s 4ms/step - loss: 0.3722 - acc: 0.8841 - f1: 0.8424 - val_loss: 0.5208 - val_acc: 0.7477 - val_f1: 0.5331\n",
            "Epoch 4/20\n",
            "160/160 [==============================] - 1s 5ms/step - loss: 0.2534 - acc: 0.9292 - f1: 0.9092 - val_loss: 0.5082 - val_acc: 0.7577 - val_f1: 0.5894\n",
            "Epoch 5/20\n",
            "160/160 [==============================] - 1s 4ms/step - loss: 0.1791 - acc: 0.9516 - f1: 0.9405 - val_loss: 0.5052 - val_acc: 0.7569 - val_f1: 0.5774\n",
            "Epoch 6/20\n",
            "160/160 [==============================] - 1s 4ms/step - loss: 0.1297 - acc: 0.9676 - f1: 0.9595 - val_loss: 0.5105 - val_acc: 0.7485 - val_f1: 0.5787\n",
            "Epoch 7/20\n",
            "160/160 [==============================] - 1s 4ms/step - loss: 0.0989 - acc: 0.9751 - f1: 0.9684 - val_loss: 0.5187 - val_acc: 0.7398 - val_f1: 0.5743\n",
            "Epoch 8/20\n",
            "160/160 [==============================] - 1s 4ms/step - loss: 0.0782 - acc: 0.9806 - f1: 0.9763 - val_loss: 0.5272 - val_acc: 0.7386 - val_f1: 0.5671\n",
            "Epoch 9/20\n",
            "160/160 [==============================] - 1s 4ms/step - loss: 0.0654 - acc: 0.9810 - f1: 0.9767 - val_loss: 0.5382 - val_acc: 0.7417 - val_f1: 0.5831\n",
            "Epoch 10/20\n",
            "160/160 [==============================] - 1s 5ms/step - loss: 0.0568 - acc: 0.9827 - f1: 0.9783 - val_loss: 0.5466 - val_acc: 0.7386 - val_f1: 0.5751\n",
            "Epoch 11/20\n",
            "160/160 [==============================] - 1s 5ms/step - loss: 0.0500 - acc: 0.9839 - f1: 0.9801 - val_loss: 0.5589 - val_acc: 0.7374 - val_f1: 0.5839\n",
            "Epoch 12/20\n",
            "160/160 [==============================] - 1s 4ms/step - loss: 0.0459 - acc: 0.9829 - f1: 0.9794 - val_loss: 0.5679 - val_acc: 0.7362 - val_f1: 0.5677\n",
            "Epoch 13/20\n",
            "160/160 [==============================] - 1s 4ms/step - loss: 0.0427 - acc: 0.9845 - f1: 0.9801 - val_loss: 0.5765 - val_acc: 0.7342 - val_f1: 0.5752\n",
            "Epoch 14/20\n",
            "160/160 [==============================] - 1s 5ms/step - loss: 0.0399 - acc: 0.9841 - f1: 0.9808 - val_loss: 0.5850 - val_acc: 0.7338 - val_f1: 0.5657\n",
            "Epoch 15/20\n",
            "160/160 [==============================] - 1s 5ms/step - loss: 0.0379 - acc: 0.9845 - f1: 0.9784 - val_loss: 0.5932 - val_acc: 0.7334 - val_f1: 0.5750\n",
            "Epoch 16/20\n",
            "160/160 [==============================] - 1s 4ms/step - loss: 0.0370 - acc: 0.9847 - f1: 0.9813 - val_loss: 0.6020 - val_acc: 0.7326 - val_f1: 0.5670\n",
            "Epoch 17/20\n",
            "160/160 [==============================] - 1s 5ms/step - loss: 0.0353 - acc: 0.9843 - f1: 0.9804 - val_loss: 0.6094 - val_acc: 0.7330 - val_f1: 0.5707\n",
            "Epoch 18/20\n",
            "160/160 [==============================] - 1s 5ms/step - loss: 0.0338 - acc: 0.9843 - f1: 0.9802 - val_loss: 0.6186 - val_acc: 0.7326 - val_f1: 0.5598\n",
            "Epoch 19/20\n",
            "160/160 [==============================] - 1s 4ms/step - loss: 0.0326 - acc: 0.9841 - f1: 0.9809 - val_loss: 0.6244 - val_acc: 0.7330 - val_f1: 0.5644\n",
            "Epoch 20/20\n",
            "160/160 [==============================] - 1s 4ms/step - loss: 0.0325 - acc: 0.9855 - f1: 0.9815 - val_loss: 0.6312 - val_acc: 0.7318 - val_f1: 0.5625\n",
            "238/238 [==============================] - 1s 2ms/step - loss: 0.2262 - acc: 0.9037 - f1: 0.8403\n",
            "f1: 0.840319\n",
            "accuracy: 90.371734\n"
          ]
        }
      ]
    },
    {
      "cell_type": "markdown",
      "source": [
        "## Creating submission file"
      ],
      "metadata": {
        "id": "qw26TLiPEU0l"
      }
    },
    {
      "cell_type": "code",
      "source": [
        "val_encoded_text = my_tokenizer.texts_to_sequences(test_data.text)\n",
        "#val_vocab_size = len(my_tokenizer.word_index)+1\n",
        "val_padded_text = tf.keras.preprocessing.sequence.pad_sequences(val_encoded_text, padding = 'post',maxlen = len(padded_text[1]))"
      ],
      "metadata": {
        "id": "gFokW9ygEA2b"
      },
      "execution_count": 12,
      "outputs": []
    },
    {
      "cell_type": "code",
      "source": [
        "predictions = model.predict(val_padded_text)"
      ],
      "metadata": {
        "id": "Re2yKB1vEtMF"
      },
      "execution_count": 13,
      "outputs": []
    },
    {
      "cell_type": "code",
      "source": [
        "sample_sub=pd.read_csv('/content/drive/My Drive/Parcours_IML/IML_Projet_8/Data/sample_submission.csv')\n",
        "submission=pd.DataFrame()\n",
        "submission['id']=sample_sub.id.values.tolist()\n",
        "submission['target']=np.round(predictions).astype(int)\n",
        "submission.to_csv('/content/drive/My Drive/Parcours_IML/IML_Projet_8/Submission/sub_2.csv',index=False)"
      ],
      "metadata": {
        "id": "SKejYmhhEv0x"
      },
      "execution_count": 14,
      "outputs": []
    },
    {
      "cell_type": "markdown",
      "source": [
        "the f1 score obtained is \n",
        "![image.png](data:image/png;base64,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)\n",
        "let's try to improve it with a pretrained embedding model"
      ],
      "metadata": {
        "id": "Vnu7_WYGFITP"
      }
    },
    {
      "cell_type": "markdown",
      "source": [
        "This score is worse than the one with SVC, let's try to a pretrained embedding model and see."
      ],
      "metadata": {
        "id": "fDigMXDmFuzf"
      }
    },
    {
      "cell_type": "markdown",
      "source": [
        "# DL GloVe Embedding"
      ],
      "metadata": {
        "id": "bsUWTJMWFVFC"
      }
    },
    {
      "cell_type": "markdown",
      "source": [
        "## Loading the embedding matrix"
      ],
      "metadata": {
        "id": "KTVZTJhhF6vL"
      }
    },
    {
      "cell_type": "code",
      "source": [
        "embeddings_index = dict()\n",
        "f = open('/content/drive/My Drive/Parcours_IML/IML_Projet_8/Pretrained_word_embedding/glove.6B.100d.txt')\n",
        "for line in f:\n",
        "\tvalues = line.split()\n",
        "\tword = values[0]\n",
        "\tcoefs = np.asarray(values[1:], dtype='float32')\n",
        "\tembeddings_index[word] = coefs\n",
        "f.close()\n",
        "print('Loaded %s word vectors.' % len(embeddings_index))"
      ],
      "metadata": {
        "colab": {
          "base_uri": "https://localhost:8080/"
        },
        "id": "nr_bq-kWEzFQ",
        "outputId": "876c87fd-852d-4777-d945-8c830fa708b4"
      },
      "execution_count": 15,
      "outputs": [
        {
          "output_type": "stream",
          "name": "stdout",
          "text": [
            "Loaded 400000 word vectors.\n"
          ]
        }
      ]
    },
    {
      "cell_type": "code",
      "source": [
        "embedding_matrix = np.zeros((vocab_size, 100))\n",
        "for element in train_data.text:\n",
        "  for word, i in my_tokenizer.word_index.items():\n",
        "\t  embedding_vector = embeddings_index.get(word)\n",
        "\t  if embedding_vector is not None:\n",
        "\t\t  embedding_matrix[i] = embedding_vector\n",
        "GloVe_Embedding = Embedding(vocab_size, 100, weights=[embedding_matrix], input_length=len(padded_text[1]), trainable=False)"
      ],
      "metadata": {
        "id": "_zYtBfmDFcVW"
      },
      "execution_count": 16,
      "outputs": []
    },
    {
      "cell_type": "markdown",
      "source": [
        "## Building the model"
      ],
      "metadata": {
        "id": "42sYCDT6GBYz"
      }
    },
    {
      "cell_type": "code",
      "source": [
        "# model with GloVe Embedding\n",
        "model_2 = Sequential()\n",
        "model_2.add(GloVe_Embedding)\n",
        "model_2.add(Flatten())\n",
        "model_2.add(Dense(1, activation='sigmoid'))\n",
        "# compilaton\n",
        "model_2.compile(optimizer='adam', loss='binary_crossentropy',  metrics=['acc',f1,])\n",
        "# summary\n",
        "print(model_2.summary())"
      ],
      "metadata": {
        "colab": {
          "base_uri": "https://localhost:8080/"
        },
        "id": "fHrFygEJFihz",
        "outputId": "38e43f13-2020-4209-8aba-8a3f8d149e00"
      },
      "execution_count": 17,
      "outputs": [
        {
          "output_type": "stream",
          "name": "stdout",
          "text": [
            "Model: \"sequential_1\"\n",
            "_________________________________________________________________\n",
            " Layer (type)                Output Shape              Param #   \n",
            "=================================================================\n",
            " embedding_1 (Embedding)     (None, 27, 100)           1611900   \n",
            "                                                                 \n",
            " flatten_1 (Flatten)         (None, 2700)              0         \n",
            "                                                                 \n",
            " dense_1 (Dense)             (None, 1)                 2701      \n",
            "                                                                 \n",
            "=================================================================\n",
            "Total params: 1,614,601\n",
            "Trainable params: 2,701\n",
            "Non-trainable params: 1,611,900\n",
            "_________________________________________________________________\n",
            "None\n"
          ]
        }
      ]
    },
    {
      "cell_type": "markdown",
      "source": [
        "## Fitting the model"
      ],
      "metadata": {
        "id": "LZ1cXCxfGOtU"
      }
    },
    {
      "cell_type": "code",
      "source": [
        "model_2.fit(padded_text, train_data.target, epochs = 20,validation_split = 0.2,verbose = 1)\n",
        "loss, accuracy,f1_score = model_2.evaluate(padded_text, train_data.target)\n",
        "print('f1: %f' % (f1_score))\n",
        "print('accuracy: %f' % (accuracy*100))"
      ],
      "metadata": {
        "colab": {
          "base_uri": "https://localhost:8080/"
        },
        "id": "HdU3X_YeGGF5",
        "outputId": "15c68848-4a4a-475a-d92a-8b6096267405"
      },
      "execution_count": 18,
      "outputs": [
        {
          "output_type": "stream",
          "name": "stdout",
          "text": [
            "Epoch 1/20\n",
            "191/191 [==============================] - 1s 4ms/step - loss: 0.5765 - acc: 0.7144 - f1: 0.6160 - val_loss: 0.5184 - val_acc: 0.7728 - val_f1: 0.6375\n",
            "Epoch 2/20\n",
            "191/191 [==============================] - 1s 4ms/step - loss: 0.4917 - acc: 0.7810 - f1: 0.7174 - val_loss: 0.5073 - val_acc: 0.7774 - val_f1: 0.6229\n",
            "Epoch 3/20\n",
            "191/191 [==============================] - 1s 3ms/step - loss: 0.4659 - acc: 0.7908 - f1: 0.7257 - val_loss: 0.4996 - val_acc: 0.7774 - val_f1: 0.6226\n",
            "Epoch 4/20\n",
            "191/191 [==============================] - 1s 3ms/step - loss: 0.4499 - acc: 0.7989 - f1: 0.7435 - val_loss: 0.4957 - val_acc: 0.7787 - val_f1: 0.6405\n",
            "Epoch 5/20\n",
            "191/191 [==============================] - 1s 3ms/step - loss: 0.4381 - acc: 0.8056 - f1: 0.7522 - val_loss: 0.4959 - val_acc: 0.7722 - val_f1: 0.6309\n",
            "Epoch 6/20\n",
            "191/191 [==============================] - 1s 3ms/step - loss: 0.4278 - acc: 0.8105 - f1: 0.7541 - val_loss: 0.4999 - val_acc: 0.7663 - val_f1: 0.6238\n",
            "Epoch 7/20\n",
            "191/191 [==============================] - 1s 4ms/step - loss: 0.4199 - acc: 0.8131 - f1: 0.7604 - val_loss: 0.5041 - val_acc: 0.7708 - val_f1: 0.6284\n",
            "Epoch 8/20\n",
            "191/191 [==============================] - 1s 4ms/step - loss: 0.4133 - acc: 0.8166 - f1: 0.7650 - val_loss: 0.5065 - val_acc: 0.7630 - val_f1: 0.6250\n",
            "Epoch 9/20\n",
            "191/191 [==============================] - 1s 4ms/step - loss: 0.4076 - acc: 0.8209 - f1: 0.7666 - val_loss: 0.5098 - val_acc: 0.7649 - val_f1: 0.6320\n",
            "Epoch 10/20\n",
            "191/191 [==============================] - 1s 3ms/step - loss: 0.4015 - acc: 0.8238 - f1: 0.7754 - val_loss: 0.5118 - val_acc: 0.7689 - val_f1: 0.6277\n",
            "Epoch 11/20\n",
            "191/191 [==============================] - 1s 3ms/step - loss: 0.3971 - acc: 0.8225 - f1: 0.7740 - val_loss: 0.5158 - val_acc: 0.7617 - val_f1: 0.6237\n",
            "Epoch 12/20\n",
            "191/191 [==============================] - 1s 3ms/step - loss: 0.3939 - acc: 0.8259 - f1: 0.7757 - val_loss: 0.5215 - val_acc: 0.7603 - val_f1: 0.6330\n",
            "Epoch 13/20\n",
            "191/191 [==============================] - 1s 3ms/step - loss: 0.3900 - acc: 0.8284 - f1: 0.7782 - val_loss: 0.5233 - val_acc: 0.7636 - val_f1: 0.6336\n",
            "Epoch 14/20\n",
            "191/191 [==============================] - 1s 3ms/step - loss: 0.3862 - acc: 0.8335 - f1: 0.7843 - val_loss: 0.5293 - val_acc: 0.7590 - val_f1: 0.6312\n",
            "Epoch 15/20\n",
            "191/191 [==============================] - 1s 5ms/step - loss: 0.3834 - acc: 0.8317 - f1: 0.7851 - val_loss: 0.5291 - val_acc: 0.7617 - val_f1: 0.6311\n",
            "Epoch 16/20\n",
            "191/191 [==============================] - 1s 3ms/step - loss: 0.3815 - acc: 0.8355 - f1: 0.7900 - val_loss: 0.5335 - val_acc: 0.7597 - val_f1: 0.6258\n",
            "Epoch 17/20\n",
            "191/191 [==============================] - 1s 3ms/step - loss: 0.3779 - acc: 0.8335 - f1: 0.7844 - val_loss: 0.5369 - val_acc: 0.7603 - val_f1: 0.6282\n",
            "Epoch 18/20\n",
            "191/191 [==============================] - 1s 4ms/step - loss: 0.3758 - acc: 0.8378 - f1: 0.7891 - val_loss: 0.5416 - val_acc: 0.7571 - val_f1: 0.6301\n",
            "Epoch 19/20\n",
            "191/191 [==============================] - 1s 3ms/step - loss: 0.3726 - acc: 0.8383 - f1: 0.7934 - val_loss: 0.5462 - val_acc: 0.7544 - val_f1: 0.6304\n",
            "Epoch 20/20\n",
            "191/191 [==============================] - 1s 5ms/step - loss: 0.3709 - acc: 0.8392 - f1: 0.7921 - val_loss: 0.5469 - val_acc: 0.7603 - val_f1: 0.6309\n",
            "238/238 [==============================] - 1s 2ms/step - loss: 0.3962 - acc: 0.8294 - f1: 0.6931\n",
            "f1: 0.693096\n",
            "accuracy: 82.937080\n"
          ]
        }
      ]
    },
    {
      "cell_type": "markdown",
      "source": [
        "## Creating submission file"
      ],
      "metadata": {
        "id": "dO7C10hcKZRf"
      }
    },
    {
      "cell_type": "code",
      "source": [
        "predictions = model_2.predict(val_padded_text)"
      ],
      "metadata": {
        "id": "ujwrvdq4GXAI"
      },
      "execution_count": 19,
      "outputs": []
    },
    {
      "cell_type": "code",
      "source": [
        "sample_sub=pd.read_csv('/content/drive/My Drive/Parcours_IML/IML_Projet_8/Data/sample_submission.csv')\n",
        "submission=pd.DataFrame()\n",
        "submission['id']=sample_sub.id.values.tolist()\n",
        "submission['target']=np.round(predictions).astype(int)\n",
        "submission.to_csv('/content/drive/My Drive/Parcours_IML/IML_Projet_8/Submission/sub_3.csv',index=False)"
      ],
      "metadata": {
        "id": "H-eoUmn7KWgF"
      },
      "execution_count": 20,
      "outputs": []
    },
    {
      "cell_type": "markdown",
      "source": [
        "the f1 score is \n",
        "\n",
        "![image.png](data:image/png;base64,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)\n",
        "\n",
        "This score is also worse than the one with SVC, let's add an LSTM"
      ],
      "metadata": {
        "id": "XHcLq0bGKtXz"
      }
    },
    {
      "cell_type": "markdown",
      "source": [
        "# DL model with LSTM layer"
      ],
      "metadata": {
        "id": "ibEqGlDZLGyl"
      }
    },
    {
      "cell_type": "markdown",
      "source": [
        "## Building model"
      ],
      "metadata": {
        "id": "XReABP2YTGCq"
      }
    },
    {
      "cell_type": "code",
      "source": [
        "from tensorflow.keras.layers import LSTM\n",
        "# Define the Keras model\n",
        "model_3 = Sequential()\n",
        "model_3.add(Embedding(vocab_size, 16, input_length=len(padded_text[1])))\n",
        "model_3.add(LSTM(10))\n",
        "model_3.add(Dense(1, activation='sigmoid'))\n",
        "# Compile the model\n",
        "model_3.compile(optimizer='adam', loss='binary_crossentropy', metrics=['acc',f1,])\n",
        "# Give a summary\n",
        "model_3.summary()"
      ],
      "metadata": {
        "colab": {
          "base_uri": "https://localhost:8080/"
        },
        "id": "dbzsLWFOKdcG",
        "outputId": "fb702eb7-978f-4d8c-d030-3f432eec7e19"
      },
      "execution_count": 21,
      "outputs": [
        {
          "output_type": "stream",
          "name": "stdout",
          "text": [
            "Model: \"sequential_2\"\n",
            "_________________________________________________________________\n",
            " Layer (type)                Output Shape              Param #   \n",
            "=================================================================\n",
            " embedding_2 (Embedding)     (None, 27, 16)            257904    \n",
            "                                                                 \n",
            " lstm (LSTM)                 (None, 10)                1080      \n",
            "                                                                 \n",
            " dense_2 (Dense)             (None, 1)                 11        \n",
            "                                                                 \n",
            "=================================================================\n",
            "Total params: 258,995\n",
            "Trainable params: 258,995\n",
            "Non-trainable params: 0\n",
            "_________________________________________________________________\n"
          ]
        }
      ]
    },
    {
      "cell_type": "markdown",
      "source": [
        "## Fitting"
      ],
      "metadata": {
        "id": "2d0YtbMTTH1u"
      }
    },
    {
      "cell_type": "code",
      "source": [
        "model_3.fit(padded_text, train_data.target, epochs = 20,validation_split = 0.33,verbose = 1)\n",
        "loss, accuracy,f1_score = model_3.evaluate(padded_text, train_data.target)\n",
        "print('f1: %f' % (f1_score))\n",
        "print('accuracy: %f' % (accuracy*100))"
      ],
      "metadata": {
        "colab": {
          "base_uri": "https://localhost:8080/"
        },
        "id": "1x7GH9fNLUWv",
        "outputId": "58fc7494-3cb9-4377-fb51-fb038dc2e025"
      },
      "execution_count": 22,
      "outputs": [
        {
          "output_type": "stream",
          "name": "stdout",
          "text": [
            "Epoch 1/20\n",
            "160/160 [==============================] - 5s 10ms/step - loss: 0.6437 - acc: 0.6233 - f1: 0.1654 - val_loss: 0.5489 - val_acc: 0.7497 - val_f1: 0.5803\n",
            "Epoch 2/20\n",
            "160/160 [==============================] - 1s 7ms/step - loss: 0.3837 - acc: 0.8535 - f1: 0.8143 - val_loss: 0.5174 - val_acc: 0.7513 - val_f1: 0.5871\n",
            "Epoch 3/20\n",
            "160/160 [==============================] - 1s 8ms/step - loss: 0.2303 - acc: 0.9269 - f1: 0.9093 - val_loss: 0.6010 - val_acc: 0.7278 - val_f1: 0.6078\n",
            "Epoch 4/20\n",
            "160/160 [==============================] - 1s 7ms/step - loss: 0.1514 - acc: 0.9565 - f1: 0.9455 - val_loss: 0.6437 - val_acc: 0.7290 - val_f1: 0.6014\n",
            "Epoch 5/20\n",
            "160/160 [==============================] - 1s 8ms/step - loss: 0.1120 - acc: 0.9671 - f1: 0.9585 - val_loss: 0.6920 - val_acc: 0.7358 - val_f1: 0.5809\n",
            "Epoch 6/20\n",
            "160/160 [==============================] - 1s 7ms/step - loss: 0.0890 - acc: 0.9753 - f1: 0.9698 - val_loss: 0.8545 - val_acc: 0.7051 - val_f1: 0.5762\n",
            "Epoch 7/20\n",
            "160/160 [==============================] - 1s 7ms/step - loss: 0.0744 - acc: 0.9810 - f1: 0.9765 - val_loss: 0.9266 - val_acc: 0.7004 - val_f1: 0.5898\n",
            "Epoch 8/20\n",
            "160/160 [==============================] - 1s 7ms/step - loss: 0.0653 - acc: 0.9818 - f1: 0.9776 - val_loss: 0.8320 - val_acc: 0.7207 - val_f1: 0.5630\n",
            "Epoch 9/20\n",
            "160/160 [==============================] - 1s 7ms/step - loss: 0.0609 - acc: 0.9810 - f1: 0.9769 - val_loss: 1.0182 - val_acc: 0.6892 - val_f1: 0.5930\n",
            "Epoch 10/20\n",
            "160/160 [==============================] - 1s 7ms/step - loss: 0.0526 - acc: 0.9835 - f1: 0.9791 - val_loss: 0.8737 - val_acc: 0.7135 - val_f1: 0.5578\n",
            "Epoch 11/20\n",
            "160/160 [==============================] - 1s 8ms/step - loss: 0.0497 - acc: 0.9818 - f1: 0.9779 - val_loss: 0.9818 - val_acc: 0.7207 - val_f1: 0.5487\n",
            "Epoch 12/20\n",
            "160/160 [==============================] - 1s 7ms/step - loss: 0.0444 - acc: 0.9855 - f1: 0.9790 - val_loss: 1.1306 - val_acc: 0.7087 - val_f1: 0.5512\n",
            "Epoch 13/20\n",
            "160/160 [==============================] - 1s 7ms/step - loss: 0.0403 - acc: 0.9847 - f1: 0.9800 - val_loss: 1.0791 - val_acc: 0.6996 - val_f1: 0.5607\n",
            "Epoch 14/20\n",
            "160/160 [==============================] - 1s 7ms/step - loss: 0.0385 - acc: 0.9839 - f1: 0.9801 - val_loss: 1.0678 - val_acc: 0.7095 - val_f1: 0.5483\n",
            "Epoch 15/20\n",
            "160/160 [==============================] - 1s 7ms/step - loss: 0.0328 - acc: 0.9865 - f1: 0.9830 - val_loss: 1.1589 - val_acc: 0.7079 - val_f1: 0.5443\n",
            "Epoch 16/20\n",
            "160/160 [==============================] - 1s 7ms/step - loss: 0.0318 - acc: 0.9851 - f1: 0.9811 - val_loss: 1.1156 - val_acc: 0.6936 - val_f1: 0.5761\n",
            "Epoch 17/20\n",
            "160/160 [==============================] - 1s 7ms/step - loss: 0.0307 - acc: 0.9865 - f1: 0.9824 - val_loss: 1.1800 - val_acc: 0.6984 - val_f1: 0.5585\n",
            "Epoch 18/20\n",
            "160/160 [==============================] - 1s 8ms/step - loss: 0.0279 - acc: 0.9861 - f1: 0.9835 - val_loss: 1.1529 - val_acc: 0.6908 - val_f1: 0.5730\n",
            "Epoch 19/20\n",
            "160/160 [==============================] - 1s 8ms/step - loss: 0.0300 - acc: 0.9845 - f1: 0.9811 - val_loss: 1.1808 - val_acc: 0.6956 - val_f1: 0.5510\n",
            "Epoch 20/20\n",
            "160/160 [==============================] - 1s 7ms/step - loss: 0.0280 - acc: 0.9853 - f1: 0.9824 - val_loss: 1.4759 - val_acc: 0.6896 - val_f1: 0.5628\n",
            "238/238 [==============================] - 1s 3ms/step - loss: 0.5037 - acc: 0.8890 - f1: 0.8362\n",
            "f1: 0.836208\n",
            "accuracy: 88.900566\n"
          ]
        }
      ]
    },
    {
      "cell_type": "markdown",
      "source": [
        "## Creating submission file"
      ],
      "metadata": {
        "id": "R0n2DerMTLhD"
      }
    },
    {
      "cell_type": "code",
      "source": [
        "predictions = model_3.predict(val_padded_text)"
      ],
      "metadata": {
        "id": "GoDPiAp7LboH"
      },
      "execution_count": 23,
      "outputs": []
    },
    {
      "cell_type": "code",
      "source": [
        "sample_sub=pd.read_csv('/content/drive/My Drive/Parcours_IML/IML_Projet_8/Data/sample_submission.csv')\n",
        "submission=pd.DataFrame()\n",
        "submission['id']=sample_sub.id.values.tolist()\n",
        "submission['target']=np.round(predictions).astype(int)\n",
        "submission.to_csv('/content/drive/My Drive/Parcours_IML/IML_Projet_8/Submission/sub_4.csv',index=False)"
      ],
      "metadata": {
        "id": "zRXLs81wTZUd"
      },
      "execution_count": 24,
      "outputs": []
    },
    {
      "cell_type": "markdown",
      "source": [
        "![image.png](data:image/png;base64,iVBORw0KGgoAAAANSUhEUgAAA7sAAADGCAYAAAATzpd0AAAgAElEQVR4nO3deXhM1xsH8G8zmez7hsSSIFRiT4h9F0tRYq2ulGopRdVWqq3atZa2VCmqKLWVxBYSaldJCUIjiC1B9n2SmSTz+2M610wyk0wWmWR+38/zeOqee+857z0z+tx3zrnnviKXy+UgIiIiIiIiMiBG+g6AiIiIiIiIqKIZl+WkgoICZGVJkC3JQa5UCpksDwUFBRUdGxEREREREf0fMjIyglhsDFMTE1iYm8HS0hxGRqUbq32lNNOYpVIZUlLTkZ6RCUtLC1hamMHUxAQmJuJSN0xERERERESkSUFBAaRSGXKlUmRl5yArKxs21lawt7OBiYlYpzp0TnYTk1KRlp4Bezsb2NlaM7klIiIiIiKiSlFQUIDUtAykpKbD1sYaTo52JZ5TYrIrlcrwLD4RpiYmcHayZ5JLREREREREelFQUICExBTkSqWo6eJU7ChvscmuRJKDuGcJcHK0g62N9UsJloiIiIiIiKg00tIzkJiUCteazjA3N9N4jNZhWqlUhrhnCXBxdmCiS0RERERERFWGrY01XJwdEPcsAVKpTOMxWpPdZ/GJcHK0g7WV5UsLkIiIiIiIiKgsrK0s4eRoh2fxiRr3a0x2E5NSYWpiwhFdIiIiIiIiqrJsbaxhamKCxKTUIvuKJLtSqQxp6RlwdrKvlOCIiIiIiIiIysrZyR5p6RlFpjMXSXZTUtNhb2fDVZeJiIiIiIioyjMyMoK9nQ1SUtPVy1U3CgoKkJ6RCTtbTl8mIiIiIiKi6sHO1hrpGZkoKCgQytSS3awsCSwtLTiqS0RERERERNWGkZERLC0tkJUleVGmekC2JAeWFprfUURERERERERUVVlamCFbkiNsqyW7uVIpTE1MKj0oIiIiIiIiovIwNTFBrlQqbKsluzJZHkxMxJUeFBEREREREVF5mJiIIZPlCdtFFqji87pERERERERU3RgZGWlfoIqIiIiIiIjIEDDZJSIiIiIiIoPDZJeIiIiIiIgMDpNdIiIiIiIiMjhMdomIiIiIiMjgMNklIiIiIiIig8Nkl4iIiIiIiAwOk10iIiIiIiIyOEx2iYiIiIiIyOAw2SUiIiIiIiKDw2SXiIiIiIiIDA6TXSIiIiIiIjI4THaJiIiIiIjI4BhXdoPPnj0HANSsWUMoS05OhlQqK1IWHHwCderWQds2bSAWi9XqsLAwh42NDQBAJpMhPj4eLi4uEIvFSE9PR0ZGhnC8g4MDzM3NNcZT0rGxsbFqx4tExmpxymQy/H3lCh4/egx//95wcHDQWrdq/enp6cjOlqjVpXpdEokEycnJReK1trYWrruwR48e48KFC6hTtw46duigFkdp2jI3N9d4Hcr+1VauqZ309HQcOXIUTk5O6Nq1i9r5AHD+wgU8fvQYHTp0QN26dTTGp0tfK6/Bzc1NKFNek+pxRERERET0f0Ku4s7dB/KXbd++/fIGDRvLYx4o2kpMTJQ3aNhYvmXLr8Ix8+cvkLt7NJS3bOUj92zURN6qta88MTFR2N+5Szf5osVLhe3IyFtyd4+G8sjIW3K5XC5ftHipvEHDxvLWPm3lTZu1lDdo2Fi+b99+jfGUdKy7R0N502Yt5a192spb+7SVDx4yVNh37949eavWvnLPRk3kLVv5yN09GsqXL1+psW7lnyNHjgr73D0ayk+eDNF4XUeOHBXOUY3h+x9+LPE6PBs1kff276u2r3OXbmrHq7a1b99+ubtHQ7X2vlu1Wu18d4+G8lWr16jVMXLU6CL9rtqOar1NvJrJW7X2laempsrlcrlcKpXKu/foLW/i1Uxjm4U/45L6WtnWDz+uE8rGjBknHzNmnMb+IiIiIiIiw6Oa01b6NOaAgCFo3LgRvv7qGwDAV19/g7p16+K9994BAISEhOK37Tuw7dctuPpPGCJvRsDOzh6TPp5SqnZcXWshPOwybly/Cn//3vhl85YyH/vVl18gPOwywsMu48D+vUL55ClT4erqisibEbj6TxiWLl2Mdet/QlxcXJG6lX/69eurVve06TMgk8mKxNSvX1/hHNUYPp40UeM1bNy4CYsWLUR42GVcvHAWSUnJOH/hQskdpULZ3tgx7+HAgT+L7N+5c5fw9wcPH+Ly5b+LrW/1mrUYO+Y9hIddRsS1cDg6OuLgoUAAQGBgEGJiYhBxLRzhYZexcOFXOPjnIa11TZ4yFQ3qNxD6+tuVy7Fu/U8ICw9XO27VqjV48PBhaS6biIiIiIgMkF6e2V2xfBlOnT6NrVu3ITAwCIsXLRT2nQwJhZdXE3Tu3AkAIBaLMWHCeISFhWurrkQWFhaQSHLKfGxySgpiY2MRGxuL9PR0AEBaWhpu3bqNaVM/EabmjhwxHOfOnoa9vb1wbn5+gXBu4SnRderURp06tTFx0uQyX5uSs7MzVq9ag5MnQ2BhYYHwsMtqU5l1oYzx1Om/4OvrWyTWrKxMHDseDADY/MsWNPL0LLY+V1dX7Nm7D7//vgsSiQQngo/hnbffAgDUrVcXADBx0mRcvXoNb705GqdPh2isR9nXH374gdDXAQFD4OrqilOhp9WO7d+/H8aOHV+q6yYiIiIiIsOjl2TXy6sJBg4cgK++XohevXqiXTs/Yd/zZ89Rw6WG2vFiY2Pk5+eXqo24uKfw8fVDq9a+2LdvPz6e9FGZj120aAk6de6GTp274Ycf1wMAYmMVo7e1atVSO9bNzU3tmd+4uDjh3E6duxVpe9uvW3Dq1Gns33+gVNdX2NEjgWjfoT2mTZ8BL+/mmP7pZ6WuY9DrARj0egCePHkCP7+2RfYPDQjA1q2/QiaTYd/+/Xj7nbeKre+3bVsxatRILF+xEi1a+iBg6HBhFNvXxwf79v6BZ8+eYeSo0WjU2EtIpAvT1tcikRFkeXlqZd+uXI7MzEwsXrJM5+smIiIiIiLDo7fVmD+c8AEAYPLkSWrlDT0b4lpEhFrZo8ePYWGhvsBUvkqSk5evnvAAgI2NDT6bMR1ubm5o0aI5AgKGaI2lpGO/XbkcMfejEXM/GnPnzAIAeHo2hEgkwt9/XxGOS0tLw65du/H06VOhrE6d2sK5Mfeji7Tt6OiIRYsW4suvFiIzM0trjMWRyWTIycnBsqWLceP6VezdsxsHDvyJwMAg4Zj8/AK1cwpvAy+mMa9duxqzZ89FWlqa2v6x74/B5ct/Y8XK72BpaYXWrVoVG1d8fDymTZ2Cq/+E4cKFs4iKisLq1WsBKBaucnV1ReChP3En6hbeGDUSH2uZqq6pr2UyGZKSkmBrq75Yl1gsxqZNG7B58xbcvXe32PiIiIiIiMhw6f3VQ8Yi9QWhR48ehfT0dMyZOw8SiQRXr17D5s1bMTQgQDjG19cXe/buQ0xMDNLT07F61VpYW1vDy6uJcIyVlaViVHHZUkREXEdISKjWGEo6VnUas3I1abFYjP79++G7Vatx82Yk0tPTsXTZCixesgwWFhbCuYWnMUskkiLtjxwxHL4+PkhJSSld5/0nISEBnTp3w86dvwMA8v77IUAZR8cO7REXF4edOxXTiXfu3IW4uDh07NC+SF0SiQSRkZEAgKws9eTbvV49+Pm1xcaNmzB69KgS4/Lv0w9Lly6HTCaDTKoY0bWwVMT02/Yd6NmrNx49eiyM9pqammisR1Nff7HgK+TmSvHWm6OLHN+8WTOMHTsGjx8/KTFGIiIiIiIyTJX+6qGSuNerhy2bN+GTqdOwa9duiEQiDBo0EPPnfy4cs2zpYowcNRo9evoDAOzt7bBl8yaN9alOme7SpXORV9/ocuyiRUuwaNESAIqR2jN/nQKgGPF98613MHDQYACAk5MTtm//Fba2tkKdymnMSt+uXK5xlHnFiqXo3qO3Tn1UmKurK2bMmI5Fi5fiy68Uzz8PGTIYPXv2AAB07doFM2ZMxxcLvsTn8+ZDJBLhk08mo2vXLmr1eNRXPIMrFosxY8Z0uLq6FmnrvffeRVhYOMa8964wvVibb79dienTZ2Dbb9sBAK1atcQH48cBAD4YPw5//XUGXbv1ENpcu3a19rpWLseUKVPV+nr3rp1qfa3qsxnTcfKk5meAiYiIiIjI8L0il8vlyo3oew/h2aCePuMpFZlMBolEovW9s/+PkpOTi32vbEn7X4b09HSYm5tr/aFBHzEREREREZHhUc1pq9zIbmmIxeJiR2r/H5WUNOojqSzpxwgmukREREREVNH0/swuERERERERUUVjsktEREREREQGh8kuERERERERGRwmu0RERERERGRwmOwSERERERGRwWGyS0RERERERAaHyS4REREREREZHCa7REREREREZHCY7BIREREREZHBYbJLREREREREBofJLhERERERERkcJrtERERERERkcJjsEhERERERkcFhsktEREREREQGh8kuERERERERGRwmu0RERERERGRwmOwSERERERGRwWGyS0RERERERAaHyS4REREREREZHCa7REREREREZHCY7BIREREREZHBYbJLREREREREBsdY3wGUVVxGPHZeP4Twp5GISryP3HwZMqVZAAArE0uYisRo7FQfPrW8Mbr5ILhau+g5YiIiIiIiIqosr8jlcrlyI/reQ3g2qKfPeIqVlpOB1Ze24vcbQZDk5ZTqXHNjM7zRbACmtnsPtmbWLylCIiIiIiIi0hfVnLZaJLvZshx8cnQhQmMuIq8gv1x1GRuJ0MOjPdb0mw8LsVkFRagfV8LCsGnTZrRq2RIffvhBhdSZlpaGmbPmAECF1ktEREREVF4SiQSrVq/F4cNHkJOTA1fXWnj//bEY/PogfYdWLk+fPcNXXy7ElbAwmJmZYfjwoZg08SOIxWKNxyvzAG0K38f/efAQfvllM+LinqJ+/fqY+dmnaNPGt2i9V8KwfMW3uH//vsY4Stvu2bPnsH3HTgDAgi/mwdXVtfiOqADVKtk9cDsYM08shzRfVqH1mojEWN57JoY08a/QeivT/v0H8OmMmejerRs2b95YIXVO+WQaAgODAKBC6yUiIiIiKo/rN25g2LCRkMmK5gXV+b71+o0bCAgYjvx89UE9Dw8PHD92WGPCq8wDtFHtD9X7e1UTP/oQn332qbC9YsW3WLf+pyLHqcaha7sSiQTTp8/AsePBwr7DQYfg5dVE67kVRTWnrdILVE0+8jWmHlukMdE1EYnRoU5rfNdnLs6O/R0Pp/2l9ufs2N/xXZ+56FCnNUxERb8g0nwZph5bhMlHvq6MS6kWQkJCERgYBJFIpO9QiIiIiIjUzJu3ADKZDH5+bXEr8jpi7kcj8NCfsLa2xqnTp9USq+pk3LgJyM/Px9gx7+FO1C1EXAuHh4cHYmJi8MWCrzSe069fX5w7e7rIn8aNGwMAfHxbA3hxf29tbY3AQ38i5n40vvt2BQBgw88bERcXBwCIi4vDuvU/QSQSYdfvOxBzPxq3Iq8Lcfy8cVOp2n1twOs4djwYrVq1fHkdp4MqmezK8mUY9sfHOBQVUmSfk4U9VvjPxq1JR/H7sFUY6tUHdW2LDofXtXXFUK8++H3YKtyadBQr/GfDycK+yHGHokIw7I+PIavgkePiyGQyrF6zFh07dYWPrx969e6DnTt3Cfujo+/Cx9cPPr5+auf98OM6+Pj64Ycf1xWp8+zZc+jVuw98fP3w3pj38fTZs1LHNGfuPADAu++8rfN5EokE8+cvEOIdPuINREVFqR0TFRWF4SPeEI758MNJQnyRkbfg4+uHjp26qv1Kl5aWJhwfHx9fqmshIiIiIsNz48YNAMAX8+fB3NwcANC0qTcWfDEP/v69IZVKhWML328PHDQYp06fLlLnqdOnMXDQYOF+dPWatWr3pNOmz4CPrx8CA4OEe96jR48BKHof/N6Y94vcB+/+Yw/mz1+gcTQaUCSjCQkJsLe3x/z5n0MsFsPGxgaLFy0EABw6dEjjeebm5nBzc1P78/jxE0RFRcHa2hofjB8HAPjpp58BADNnzkDTpt4AgCFDBuPTT6ehZ88eiP0v2Y2Ni4O/f29MnToFfn5thTZ69eoJAEhLSy9Vu8bGImzevBH79+3RGH9lqZKrMY89OAdXYm+olRkbifBph/cxsc2bpa5PLBJjhHc/jPDuh3VXduDbC7+oPft7JfYGxh6cg98CVpY7dl1MmDARp06fhrm5ORo0qI+oqDv4fN58xMbG4rPPPoVMJkNycnKR89LTM5CcnIz09Ay18tjYWIwZOw7W1lbIyMjEX3+dQZ8+/XEq9AQcHR11imnp0uVISEjA2DHvwdvbS6dz0tLS0L1HL6SkpEIsFsPS0gJhYWF4bcDr2PDTOvTs2UNtWkaDBvWRmZmJ48HBuHDxIs6eOQVvby+IRCLExcXhzJmz6NmzBwDgwIGDSE5OhpdXE7i4cCVtIiIiov93derUxuPHT/D1wm/w84b1sLGxAQAMHRqAoUMD1I59bcAgREffhUgkgq2tLW7ejMTYseMxZ/ZMfPDBeADAqtVrsHbtDwAABwcHJCQkYM2a73HoUJAwbTctNQ3Jycn4acPPuHXrNgBFkqt6H2xlZQUTExP89dcZnDt3Hvv370HzZs0QHx+P2bPnAgBatWqJgIAhRa7p8t9XAAA+Pq3Vytu184OFhTmysyW4deu2TtN/F36zCAAwYcJ4Yerz1WvXAAAjRwzHnwcPCYn6uPfH4uNJE4Vz2/j6oo2v+jO8MpkMJ08qBh/r1q1TqnYPBx3S+rxxZapyI7szgpfizMMramX2ZjY49tbmMiW6hU1s8yaOvbUZ9mY2auVnHl7BjOCl5a5fF8pflSKuhSPw0J+4eOEsXF1d8byMI5h3oqOxfNkSXP0nDDeuX4WHhwcyMjKwZs33Op1/69Zt/LrtNzg7O2P2bO1z8Av79ttVSElJhbe3FyJvRuDqP2FY9M1C5Ofn47tVqwEAQUFHhGkZJ08cx6WL5zFmzLto3Lgxrl5V/OMbPPh1AMDBQ4FC3ceOHwcADB82TOd4iIiIiMhwzZ07ByKRCJcv/40WLX3QqrUv5s9fUGQ0dfuOnYiOvgtnZ2dcvnQe4WGXsXfPbgDAmrWK++O0tDT8+ON6AMDePbsRHnYZkTcjhGm7P65br1bn48dPcOxoEGLuRyMgYIhwH9y/fz/cuH4V4WGX8e3K5cjPz8dnM2YBAFxcXNCmjS9cXV3RtWsXjdd0N/ouAMVzsYUpB63+/fffEvsmJCQUt27dhrOzszC6Gh19F/n5+bC3t8eECRMxbdqnCA4+geDgExgx8g0sXrJMY13K2aTeTVvgyZMnGD9+HN56c7TO7QKoEokuUMWS3d03D2NP5FG1Mg+72jjxzq/wdHSvsHY8Hd1x4p1f4WFXW618T+RR7L55uMLa0Ub5TOzChYtwJzoaNjY2OH/uL6xcofkLV5I6dWoLvxSZm5tjwgTFr1Xnzl/Q6fzPZs5Cfn4+liz+plRfzJDQUwCAeZ/PFc4bPXoUzp09jZ83KP4HITZWTB44cuQoTp4MQXJyMr6YPw97/vgd3bp1BQBh9bxz584DUPyKFBYWDpFIhCFDXtc5HiIiIiIyXH37+OPs2dMYMmQwrKyskJqahu07dqJvvwGY8sk04bjj/z27O/GjD4WE0cenNS5eOIfg40chk8lw7Hgw8vPz4evjI4yqisVi4T76xImTam0PHzZUeC4VeHEf/N677yA2NhaxsbHw82sLFxdn3ImOFqYt/7H7d5w/95fOsy3LSjnQNPGjD4X7cmUMKSkpePDwIS5cOKv2zO7GjZuE0WpNZDIZCgoKcO3aNSQlJencblVSZZLd1Jx0LDzzo1qZvZkN9oz4Hs6WDhXenrOlA/aM+B7WppZq5QvP/IjUnPQKb0/V8mVLIBaL8dv2HejTpz8aNfZCr959cP/+/TLV17BBQ7XtZk2bAgDy8kp+Dnnr1m24des2evXqKUwh1pXygXblFBIl5fx9AJg6dQqaNHkVz54/x/gPPoSPrx+8vJur/ZLk5dUEjTw9kZKSgrDwcISEnlL8z8fXB7a2tqWKiYiIiIgMV62aNfHdtytw4/pVRFwLx9y5syESiRAYGCS84ubhw4cAABsba7Vza9asATc3N4jFYty7p7jvtrZWP0Z5H52Rof7YoMhY/elP5X3wiJFvoFPnbsKf+PgEAIpRVV3UqFlDY3sAkJ9fAAAlvq5HdXT1zTffEMpVk8/FixaiVs2aABTP7Hbv1g0AcPjwkSL1fTxpIsLDLuNO1C106dwZV66EYdLHU3RutyqpMsnuN2fWISM3S9g2NhJhy+BlLyXRVXK2dMBvQ1bC2OjF6sMZuVn45kzRBaAqUkDAEETejMD27b9i/PhxcHNzw7179zF4yDCtD68DQH5ensbywv84nj59qnMsm7dsAQBcunRZeLh+wZeKFarPnT8PH18/rf9YLSwUCwPk5WuOC1D8IztyOBDhYZexZPE36Ny5E6RSKTZu3KQ2PaRf/74AgODgkzhyRDG6P2I4pzATERERkeL+dteu3cJ9IqAYcBk/7n1hcdXQEMVoqzKBlWm5dwYAW1ub/45Rv/e+d++eTvEo74ODAg9qXJ3Y07NhCTUoNG7UCABw/fp1tfK0tDQhoW7S5NVi69A2uurp2VCYUVp4cEqZZCv7KD09HbGxsWrrBonFYsyYMR0AcPny3zq3W5VUiWQ3ISsZB26rLxX+cdu30aqWbgsllcbVp7ew6MyLJKtVLS983FZ99eEDt4ORkFV0gaiK8PDhI2z6ZTNWrVqDjh06YO6cWTgVegKAImmNjr4LN7cXv95c/2/VOZlMhhMnT2qs82qhqQVbf90GAGjZsuSlvh0dHeHg4AATE5MSjz1/4YLaKs/NmjUDAPz++26h7NKly/Co74mOnRRTlI8cOYr58xfg2bPnGDVqJLb9ukX4H1J42D/CecrE9tixYwgJCYGFhTkGDhxQYkxEREREZPjkcjnmzJ2HKZ9ME+6Ple5ERwN4kcD5tFZMS967Z59wTFJSEhp6vgqP+p7C64sA4J9//lG7jz56TLFuTEn30cr74CtXwoRZjS4uLvh123acPXtOSP4ePXqMK1fCtNbj798LIpEIt27dVrsu5cJZzZo1E2Y6aqqrpNFVf//eAIB9+/YLZRKJRBjR9WvbBgDw2/Yd6NS5GwYPGao2+Pb3fwto2durv9WmOozqAlVkNeZ1V3aorY7sbOmAae3HVHg7V5/ewog9UyDNlyGvIA8Luk0GAExrPwY7bhwSEty8gnysu7JD2F+R7OxssXSp4uH1Z8+fo20bXwQFKb5szs7OwkprXl5NcOvWbQwbNhKNGzfCvXv3YWVlpbFOCwsLdO/RG+3bt8PDh48QFRUFkUiEDyd8UGI8B/bvLVKmfFl0p44dhZdRK8tEIhHuRisekp87dzYCAoZj167duHv3Hhwc7HHqlGLxLeVzuJcuXcb2HTtx8mQI3h83FlmZWdizV/E/nh49uwtturq6wtfHB2Hh4QAU7/Cqqr8QEREREVHlcnV1Rfdu3XDq9GkEBAxHkyavwtXVFWfPnoNEIoFIJMLbbykWs/3kk8n48+AhhIWHo2+/AahXry6uXLmC/Px89OrVE2KxGL4+PkJ9vf37YtiwYbhy5QquXYuASCTC9OlTi41HeR/8zaLFuH7jBry8mmDr1m3Cs7ujRo2ETCZDj569kZ+fj7VrVmkcyHF1dcXYsWOwceMmBAQMR4cO7REfnyAsujV3jmKxK211LV+ueJuMttHVjydNRHDwCWzeshXnL1wU+iIjIwNeXk2ExxjfenM0NmzYiMePn6BFSx907twJcXFxuHkzEgDwxqiRavWW1G5VUSVGdgPvhKptV8Sqy4WpJroAsPnqXswPXa21zcIxVRRbW1ts2bwJTk5OOHDgT8yZOw/nL1xAvXr1cPDgi19cvl+7Gk5OTpDJZLh5MxJ9+/YRVi0uzNfHB2+/9SaCg08gKioKYrEYP/ywVqclynXl6OgIkUik9hqg5s2aYcvmTbC3t0NYWBiCg0+goKAA48ePw2effQoAmD//c/Tt44+ExEQsWrQEq9esRU5ODj75ZHKRVd1eHzxI+PtQDUuzExEREdH/rw0b1uGtN0fDyMgIN29GIjj4BCQSCerVq4fdu3YK976Ojo7488BeuLm5ISoqCsHBJ5CSkoq+ffyx7sfv1err28cfKSmp2LhxE65di4CTkxP2798D93r1io1FeR9sY2ONAwf+xKJFSxAbG4uuXbvgt21bAeC/d+ZaQyQSoZZrLa11zZ0zS0jUz549h6ioKJibm2P9+h/Rrp2f1rqOHQ/GnejoYkdXvbya4HDQQdSrV69IXyhXqAYUOcrx40fQtKk3JBIJgoNP4ObNSJibm2Pp0sXCvb2u7VYVr8jlcrlyI/reQ3g2KP6DrWhXn97C4F0fCdsWYjNc/ygIYlHF/UJQONFVGttqmDB6K8uXofn6AciW5Qj7/xy1/qVMpVZKT09HRkYGHBwchBdjazqm8Bx7bSQSCZKTk4XFoQBg8ZJl2Lhxk9ZzYu5HlypebbEkJydDIpGotV1YbGwsRCJj1PxvigkRERERUVk8e/Yc+fl5xd5HAy/ut11cXLSOQMpkMsTHx8Pa2lrn+25VyvtgTW3IZDLk5eUVG2PhOLTdL5emLk106QvVOMraH/qmmtPqfRrz6QeX1ba7uber9EQXAMQiMbq5t8OR6NNqsb3MZNfGxqbEL1BpvmDm5uZFks2mTb2FufrlVVwsDg4lLyRWXCJMRERERKQrXQdPdLnfFovF5bpPLe4+WCwW6zzNt6Q4SlOXJrr0hS5xVCd6T3b/eRqptt26ApNLXRNd1bZVk93CsVVHgwYOwCAu9ERERERERP9n9P7M7v2Ux2rb7WqXvIKwLkqb6Gpqu3BsREREREREVD3oPdnNlknUtl91ql/uOsuS6Gpqu3BsREREREREVD3oPdlNlqSpbWt7Xver09/j6tNbJdZX1kRXU9uFY2IlLQwAACAASURBVCMiIiIiIqLqQe/Jri7mh67G5qt7MWLPlGIT3vIkukRERERERGQ49J7sOpjbqm3LCiWq80NXY1vEAQCANF+mNeGtiES3cNuFYyMiIiIiIqLqQe/JroVY/T1R/ybeV9s2MzZV25bmy/D2gRlqCW9FjegWbrtwbERERERERFQ96D3ZrW9fR2370pNratufd/kIY1sNUyvLyM3C2wdmIDrpQYVOXS7cduHYiIiIiIiIqHrQ+3t2W9fyxpmHV4TtfzRMUVYmrZuv7hXKMnKzMGT3ROTmSSvsGd3Cbbeu5V3qOoiIiIiIiEj/9D6y283dT2379INLRZ6dBRQJr6YR3opKdGX5Mpx+cKnY2IiIiIiIiKh60Huy26qWF5wtHYTtbFkOfrt+UOOxC7pNxjsthmitqzyrLv92/SCyZTnCtrOlA1rV8ipTXSXJycnFN0uWYeCQoRg4ZCg2b90GmSyvxPO2bd+Bbdt3lLv9DydNxjdLlgmxpKamqu1PSEzUKR5NFi5eitN/nSlS/uDhQ0yYWHErYv+4fgNmfz6/SHnh2LXFUxUlJCRgxqw5GDhkKIaNHI2DgUE6nVdR1/ja6wH4fdcfAIDU1FTk5OQK+2SyPCQkJpa57gkTJ+PBw4dFysd/OFH4LpZFeeMiIiIiIsOl92QXAAY26qG2ve6K9oRuYY+pGhPe8r5eqHCbhWOqSBMnT4GJiRi/bfkFG39ah6vXrmHR0pJv+DMzM5GZmVnu9md+Oh0Txo0FAJw+cwaLl65Q2z9pylSNiYkuMtIzkJObW6RcJstDSmpKmerUVNefhwJxLeI6MjIy1PYVjl1bPFWNTJaHt8eMg69Pa/y25ResWLYYu//Yi9927Czx3Iq6xsULv8KQwa8r/r50BU6feZFAP3j4EJOmTC1z3SmpKRp/QJkz8zPhu1gW5Y2LiIiIiAyX6Msvv/xSuZGckgZHB7tKD8Lb2RObr+5FgVwOAMiWSQAA7eu00nh8D492SJakIeL5vwDKn+iuurgFoTEXhW1jIxE2DPwGliYvZzXmlavW4JcN62FmZgYrKyu09/ODmakpPNzd8fx5PDZt3oJ2fm0BQG37Sli4oiw+AVu3bUdCYiIaN2oMkUjxm8XqtT/AxdkZK75bjYePHqOptzeCjhzBtu07kJmVhVcbNwIAhP9zFc+fxyMzKwubt27D4ydPcOPmTTT19samzVtw/cZNxDx4iOTkZDRv1hQyWR727NuHnbv+QNSdO2jWtBmMjRWPe8tkefj1t+3Ys28/XjEywt279+Dh4Y6GDRqoXXNycgpCT52GX9s2WLbyO1y7fh2eDRrA0tISh4IO49btf9Hk1cZqfVSrVk3Y2xX9Pp67cAHx8fFo5OmJ+Ph4tGjeTLj+wrGfOBkKV9daOHz0KIIOH4WFpQXq1K4NADgZEorUtDTs3L0bMTEP0LxZUzx6/BibtmxF0OGjyC8oQIP69YXP4WBgILKys7B+w0ZE3bmDli1aCn2fk5OLnzf9ggMHA4t8Lrq4HxOD8xcu4Ksv5sPMzAz2dnZo08YHFuYWcHWthR2/7wIA1KjhAgBq2ydOhsLDwx1nzp7Hnn37i407MysLDerXFz4z1f4ICT0FY2NjnAwNxZlz5/HgwUPExDyAh7s7vl29Fo8fP8G/UVFwdnZGjRouxV5zTk4u1vzwI4IOH0WNGjXw19mz6Nm9OxwdHNSuW/ldrF/fAydDQnE/Jgb163sIn49yu/B3sGWLlkhMTNQYl6odv++CrY0Nftm6VYjFxcX5Rb/fj8EP6zfgePAJODk5oWaNGoh58AC/bPkVHdq3AwD8c/Uadu/ZK/ybPH/hIi5euoym3i9n5gcRERERlZ1qTlslRnadLR0wpIm/WtkPf/+m8X26Sgt7TMVw737lTnSvPr2FH/7+Ta1sSBN/tanVFc3BwQHrftogTBO1t7dD925dAQDpGRm4cOnFs8OFt0+GnMKdO9EY//4YRETcwOfzFwj7Dh89hs1bf8Wbb4zCufPnMXL0W0hOTsbQIYOxfsNG/HX2HADgTnQ07kRHw9HRAZ4NG8DO1gbt/fxgYWGOFs2bwdTUFM2beaNxI0Vy/Pn8BYiIuIHx749BSkoqxo6fILQ5YeIkREffVbR57jyu37yp9bpTUlKx9od1ePONUXBzdcV74yYgJSUVHu7u2Lptu3Bc9N17OHvuPDzc3TXWc/jwUfTs3h29e/bAiZOhQrmm2AHg123b4de2Dbp17YKvFi7GjZuRQj/M//JrONjbo3GjRoi+ew/vjR0PN1dXjH9/DHbt/kMYWU3PyMBvO37HiRMhGP/+GNz+N0roe5ksD2PHT0BOTi7Gvz8Gl/++gi++/FprP2hSs4YLEhMScTAwSBgBrVunDnx9WgMAIiJuIO7pU+H4wtu/bN4KCwtzvPnGKOzZuw/rftqgFvfFi5fx5hujsHnrNox++13Uru2Gbl27YPbc+XgSG6tWZ+NGjWBnawPPhg3QonkzWFiYo3kzb5iamqK9nx8cHR2KvWaZLA+Dh43AK3gFb74xCr9s2YqUFPWp8krK72LhvxfeXrR0GSIibmDKxxORmZWF6Z/N1BhXYRERNzBj1hx069IF3bp2waQpUxF99x4A4N+oO5g87VP4tW2DoUMG46uFi3As+AQ83N1xPPgEnj+PBwAcCjqMfQf+FGYRHDwUBFMT0yJtEREREVHVUiWSXQCY12UirE0the28gnyM+XMWErKStZ6z0n92uRLdhKxkjPlzFvIK8oUya1NLzOsyscx16mLrpp9xP+YB+g98HcNGjsauP/bo/Iysk5MTpk+dAg93dyxZ9DVu/fuvcPOek5ODBfPnwdurCUYMH4aaNWtgzLvvwKd1Kwwa0B+RkZFqdbm5uqJlyxao4VIDAwf0h7W1Nbp36woLC3N06dwZvj6tceNmJJ49f44li76Gh7s7Pp8zC1ZWVjh/4SKuXotAZlYWliz6Gt5eTfDFvLlwcXbWFLYQ3+ezZ8HbqwlGjRiOrl064ffdu9GsqTdMTU2EJDQw6DC6du6ksY6MjAyEhYfjtf790LFDeySnpAjXXzh2pbFj3kWnDh3g36snXuvXF2fPnRP29fXvjTHvvgNfn9bwbNgAhw7sxagRw+Hh7o6AIYNx48aLPrOytMQX8+bCw90d8+bMxtWICADA4SNH0aBBfeFzWb5kMW5ERgrJkqqTIaEaEz9ra2ts3bwRhwIPo0//AXjr3TEIPhmitS8La9WyBUaNGA5vryb4bsUy7N6zT/hOWVlaYvrUKfD2aoI+vXuiTRsf+PfqCf9ePeHXpg1uRqr/qOTr0xo1XGqgZcsW6N6tK6ytrdGlc2dYWJhj4ID+cHN1LfaaDwYGonnTpkKby5cs1vk6tLlzJxqDBr2GmjVqYOan07Fi6RKNcWny7jtvwad1K/j36onu3bri0uXLAIAf1/+E8WPHwL9XT/i0boWvFszH+g0bAQDt/Nri7PnzAICr1yLQrWsXnL+o+NHpakQEevboVu5rIiIiIqKXS++vHlKyM7PB/C6TMPPEcqEsJScdw/+YjD0jvq/wkdaErGQM/2MyUnLS1crnd5kEOzObCm2rMHt7O6xctgQAEHnrNlav/R4RETewZFHJo4HNmqq/Dsnr1Vdx7/59eDZUTBsWi198pFaWVuWONTYuDk+ePMHAIUOFsqzMLGRkZiIjMxPudeupHV+zRg2tddVwcYG9/Ytpyc2bNUNo6GkAQF9/fxw9fhzNmnrjr7Pn8OPaVRrrOH7iJFxda+HY8WAAioQ9MOgwpk+dorVd5ZRrAEWmFhfeDjpyFCdOhiI+IR45khy0atlS2GekcqxiGq9iQbO4p3G4dOmyWh9lZGQgPSNDbVptRkYGFi5eihnTp2Lga/2LxFm3Th388vN6yGR5uH7jBhYtWYYHDx7gg3Hva702peb/TeUGFIlzjRouwrPLRoWu0crSEuVV3DXHx8fD3b2uUC4WG6t97mUx4YNx+HzeAjg4OKB9ez+MffddmJnpNrqq+vm7ODsJI7TP4+PhrTIVuVlTbyQnK35c69ihPUJDT6NF8+Zwc62Fjh3a49Llv1HDxQWeDRvA2tq6XNdDRERERC9flUl2AWBk09dwJe4G9kQeFcpiUp+g97Z3sWfE9/B01DyttbSikx5oTHSHe/fDyKavVUgb2uTk5CIjMwPOTk4AAG+vJlj3/Vr06ls0+dEkKVl9pDszKxPWVuVPaovTsmULfLei6AJax4JPIC9ffUS68LaqtHT1/s7MzISFpQUAwL93T3w4aQr69ekDWxsb1HZz01jHocDDcHR0wsX/RuesLC3x19lzxSa7uvp91x84e/48li5eCGcnJxwLPiEk4yUZNHAAJk/6qNhjrK2t8VdIsMZ9mZmZyMvLg52dHcRiY/i0boXF33yNr79ZrFOym5KivvhXdrYENtbWSC+0gFdF0nbNJ06eRH5+gVpZQaHt0urauRNCTxxDQmIitvy6De+N+wAH9/1RrjoBID//xawOmSwPRkaKHwY6tm+H1Wt/wKXLl9G+nR96du+O9Rs2wsXZCe3b8ZVkRERERNVBlZnGrLTSfza61GujVpaSk46+28di67V95a5/3ZUd6Lt9bJFEt0u9NljpP7vc9ZckMSkRw0aORkJCglB25Ngx1KurGAkTi42RkpIq7A86fETt/PMXLgrTYP+NuoPou/fQto16f5WG2NgYqWlpamXGImNh5eSO7dvh2rUIIR6ZLA8zZs1BzIMHwr5/o+4AULw6J/yfq1rbysnJQdCRo0I9f+zdJzyrXNvNDXXr1MbCxUswaKDmHxyexMbi6bNnWLlsCRYv/AqLF36Fb1cshampCc5fuFgk9tJKSU1Bk1dfFX6IUNZZks6dOuFk6CnhGeyUlFRMmjIV2dnZOrcdfvUa3n3/A7XX/Rw9dhwNGigWmhKJRLh9W7EgW0JCgjCFWinw8BFh2nLQkaNwsLcvslhTaYhEIrVXUonFxsjOlghtFHfNnTt1wuGjx4Tv6d9hYXgeX3RKd2HGxsa4e+8+ZLI85OTk4vSZs8K+Dz76GCkpqXB2csL4sWOF2ArHVRrt2rbF5i2/Ctsbf/kFzZs1BaD4YaK+hzu2bd+Jdn5+EIuN4eZaC4eCjgjfWSIiIiKq2qrUyK7S5teX4I1903Al9oZQlleQjwWn1uL7y79hVqcJGPJqL4hFYp3qk+XLcODfk1h2bgMSs4smQm3cmmHz60sqLP7i1HZzw+RJH2Hk6LdhaWUJmVQGU1NTfL/mOwCAe7166NqlMwJGvAEzU1MMGTxI7fzuXbtg7PgJyMvPQ44kB/M+n6M2dbm0unTujJ9+3oTefV/D9l+3oEYNFwwfFoDZc+ahj39vzPrsUyz4Yh5Gv/0ezMzNkCPJQdeuXYTFo2Z+9ikmfzINZuZmMDM1w2v9+2ptq1atmjh//iI2bNwk1KP6bK5/r15YtfZ79OndS+P5hwKD0LFD+yLX29ffH8eCT6Bjh/ZFYi+NN0aOxFvvjUXwyZMoyC+At5duq+02a+qNYQGDMXBwgNBH77z9JiwsLHRuu2vnTggP/wf9B74OSytL5EhyULt2bWFE/d133sKnM2cjMOgw3Nzcikxn79yxIwYPHQ4jkREKCuT4dvlS3S9cg+HDAjBj5mycO38BP6xZBfd69dCwQX30H/g6vvxiHjp2aK/1mps19UbA4EEY8cabMDM3Q80aNdDer+TR0OFDh+KDjyahT/8BMLewQMf/VkMGgM6dOgj1yaQyTJuieFZfU1y6mjxpIiZPnYa+rw2CSCSChYUFfl7/o7C/R/duePT4ifCIQPt2fkhMStI664CIiIiIqpZX5PL/3vcDIPreQ3g2qFfc8ZVq8pGvcShK8yI9JiIxfF2bYZhXX7Rxa4a6tuqL0zxKi8OV2BvYe+sYwuJuQJov01jPoMY98X3/Lyo8dl08e/4cZqamsNPweh1dzi3u+diXISExEXa2dkWSTZksD6lpqcKIaElSU1NhZmZe5JnLPw8G4sLFS1i+dFGFxVwWCYmJsLay1vmZUFXl/VxksjwkJSfBytISVqWcnl7az6GiaLvmnJxc5ORIiv1+L//2O9SqWRNvvzm6xHaUfVPR33vVKeREREREVL2p5rRVOtkFgAO3gzHzxHKtyWpZmYjEWN57ZpFXHpF+rPtpAw4FHcGSb75Gq5Yt9B0OVYJjwSeweu0PWLF0cZGRaiIiIiKisqhWyS4AZMty8MnRhQiNuaj2mqCyMDYSoYdHe6zpNx8WYrMKipDKIyMjA6f/OgtvryaoX99D3+FQJQkL/wdisRgtVFaSJiIiIiIqj2qX7Cql5WRg9aWt+P1GECR5OaU619zYDG80G4Cp7d6DrRlfG0JERERERGRoqm2yqyouIx47rx9C+NNIRCXeR26+DJnSLACAlYklTEViNHaqD59a3hjdfBBcrcu+Mi0RERERERFVfao5bZVcjVkXrtYumNFxnL7DICIiIiIioiqoyr1nl4iIiIiIiKi8mOwSERERERGRwWGyS0RERERERAaHyS4REREREREZHCa7REREREREZHCY7BIREREREZHBYbJLREREREREBofJLhERERERERkcJrtERERERERkcJjsEhERERERkcFhsktEREREREQGh8kuERERERERGRwmu0RERERERGRwmOwSERERERGRwWGyS0RERERERAaHyS4REREREREZHCa7REREREREZHCY7BIREREREZHBYbJLREREREREBofJLhERERERERkcJrtERERERERkcJjsEhERERERkcFhsktEREREREQGh8kuERERERERGRwmu0RERERERGRwmOwSERERERGRwWGyS0RERERERAbHWN8BlCQrW4LklFSkp2cgK1uCnNxc5OXl6zssIqrGjI1FMDM1haWFOWxsrOFgbwdLC3N9h0VEREREFajKJrtPn8cj7mk8cnOlcLC3haOjA+rVtYCZqQmMjats2ERUDeTl5SEnV4rMrGykpqbh8ZOnMDU1gWstF9Sq4aLv8IiIiIioAlS5rDEhMRkxDx/D1NQE9eq4wcnRXt8hEZGBMTY2hpWxMawsLVDTxQkAkJiUgtinz/D4yVN41KsDZycHPUdJREREROVRpZLdqOj7SE3LQAOPukxyiahSOTnaw8nRHolJKbgX8wjJKalo7Flf32ERERERURlViQWqcnOlCL92E3K5HH6+LZjoEpHeODnaw8+3BeRyOcKv3URurlTfIRERERFRGeg92c3NlSLi5m04Otjh1UYN9B0OEREA4NVGDeDoYIeIm7eZ8BIRERFVQ3pPdm/evgMXZ0e4162t71CIiNS4160NF2dH3Lx9R9+hEBEREVEp6TXZjYq+D0sLcya6RFRludetDUsLc0RF39d3KERERERUCnpLdhMSk5GalsGpy0RU5b3aqAFS0zKQkJis71CIiIiISEd6S3ZjHj5GA4+6+mqeiKhUGnjURczDx/oOg4iIiIh0pJdk9+nzeJiamnDVZSKqNpwc7WFqaoKnz+P1HQoRERER6UAvyW7c03i41aqpj6aJiMrMrVZNxD1lsktERERUHVR6spuVLUFurvSljuqOHTseHvU9IZPJXlobRPT/x8nRHrm5UmRlS/QdChERERGVoNKT3eSUVDjY21Z2s1RNhYSEwqO+Jzzqe1b5+pX1hISEVkBk5fey+04XAwa+Do/6nhgw8PVyHVOVONjbIjklVd9hEBEREVEJKj3ZTU/PgJ1d9Ul2lTfiqn+qImWcGzZs1HcoRFoZwvfUzs4W6ekZ+g6DiIiIiEpgXNkNZmVLUK+uRWU3W2ZBgQcBABs2bMTSZcv1HA1R9aL891PeY6oSK0sLPHocq+8wiIiIiKgElT6ym5ObCzNTk8putsLFxMQUmbaqWhYTE6O2vWHDxiKjw6qjxqojXcqyGZ/NUjtH2/TYAQNfR2TkLQDA0mXLi4xAF65nxmeztF6XMibVY5Tnq04zLa7O0vZNSEio0D+6KDzarqnvVP/ExMSona+6b9z4CaVqQ5e4jx47XuznVtLnUdw1lNS+Ltemqa2Svmslxaw6ZVq1z1TLtX1PNU231rWPCv+7qowp5GamJsjJzX3p7RARERFR+VR6spuXlw9j44obUF6x4ls0b9EaSUlJxR435ZNp6NK1OyQS/SwsE333LmLuR8Pb2wuA4mb9+7WrsWnjBgCKm//CSRkAxNyPFo4ZN36CxmOCAg8K9c6eNRMx96MRcz8agCJp27dvv1A+e9ZM7Nu3X+vzkQMHDAAA7Nu3Xyj7999/1faVts6SrFq9RudRc4/6noiMvIXQkGDhGpcuWy4kOd7eXsL1z541EwDQo6e/cL4yRmXsyr4tTRu6xK3tc9Ol70q6Bm3t63JtxSlrzCEhoUJirYxbU9vFfU9Vleb7FRgUpNZPuiT45WVsbIy8vPyX3g4RERERlY9eXj1UkXJycpCRkYHuPXprTXinfDINgYFBMDYWV3J0L0ya+CEA4NVXXwWgSGg8PDxQv76HcMz9++qJbL++fQAAPXv2EMqCg0/q3GZISKgwkjZhwni1/0ZG3tI4Cubv30vt/JiYGKEOf/9eZaqzJAMHDNCa+KhSjq4OHRoADw8P4e+AYjQVUJ8Sq3otMTExGmMvSxslxa3tc9O174q7Bm3t63JtxSlPzMp+USayynrKEkdpv1/Tpn4CAGjYsIFQpukHISIiIiL6/1Ppya6xsQh5eXkVVt/8+Z9j/PhxWhPe8R98iMDAIHh4eOBw0EGYm5tXWNuVSTWR0NXdu/c0nqvcVu5X5eHhIew/euy4kFwrk/Oy1FkS1USlONF37wJQjDorp60qR6CVo8+q03wLj4Zqi720bZQmbtW2dO274q5BW/u6XJuuShuzZ8OGABTJqC5T5YvzMr5fFS0vLw/GxiJ9h0FEREREJaj0BarMTE2RkyuFVQVOZZ47R3FjvXHjJnTv0VsYLZ0wYSJOnT5d7RPdyjZt6icYN34C9u3bLyQZyinMVcHQoQFYuWJZkXLVRcRCQ4IBaJ7+W542XvaoYUVeQ2VRjryqTqlW/kCgHDE2JDm5UpiZmuo7DCIiIiIqQaWP7FpamCMzK7vC6507Z5YwwhsRcR0ADCrRVU7t1HUUVPVY5bm61qU6lVV1CnN56qwIyhFE1eeJVSlHZVWnIGtSOPbStFFaqv2iS9/peg0ltVcepY0ZUCS8yinVymnfhUfCdaHP75euMrOyYWlRvf9/QkRERPT/oNKTXRsba6Smpr2UupUJr1JFJrqBQUEAXjy/qTrdVzm18sd1P5W7HU1UVxtWTURVKZ8FViZLymOVMSrrUP7X29tLa13Ai+tU/l2ZeOlS58vqG9VnQFX7JCQkVG3arDLJKvwMtOr5ymc/C0+L1bUNXRTul9J8HtquQRtdrq00MQPQOeYZn81Se5a28IJmqjR9T1WV5ztbWVJT02BjY63vMIiIiIioBJWe7DrY2yE55eUku8CLhLciEl3VV5pERt4qMrX1+7WrAbx4jYpyVLCijBs/AR71PYXpocUt4KSMS/VZU0Cx2NHQoQFCjEuXLcfQoQElvttUdfpp4amoutT5svpGuaK16qtrlCvwrlyxDN7eXsKzo6tWrylyvnJqsLJvlT9i6NqGLgp/bqr9UlLf6XIN2uhybbrGrPpd0+XzVp6v/Lcye9ZMjQtUafueqirrd7ayJKekwcHeTt9hEBEREVEJXpHL5XLlRvS9h/BsUO+lNxp+7Sbq1XGDk6P9S2+rOlImAJs2btDbSJbqs6MlrZJM1VdV+K5VJ4lJKXj4OBY+LZvqOxQiIiIi0kA1p9XLq4dca7kg9ukzfTRNOio8bZuIgNinz+Bay0XfYRARERGRDvSS7Naq4YLcXCkSk1L00TyVQPXduoa4mi5RWSQmpSA3V4paNZjsEhEREVUHlf7qISWPenVwL+YRpzJroO9pwx4eHnqPgSoHP2fd3Yt5hPrudfQdBhERERHpSC8juwDg7OQAO1tr/Hun9CvGEhFVpn/v3IOdrTWcnRz0HQoRERER6UhvyS4ANPasj6xsCR48eqLPMIiItHrw6AmysiVo7Flf36EQERERUSnoNdkFgKZNGiE+IYkJLxFVOQ8ePUF8QhKaNmmk71CIiIiIqJT0nuyampqgRdMmSEpO5ZRmIqoy/r1zD0nJqWjRtAlMTU30HQ4RERERlZLek11AkfD6tGyKV155BZfDIrhKMxHpTWJSCi6HReCVV16BT8umTHSJiIiIqim9rcasSWPP+khITMb9B48Q+/QZ3GrV5GrNRFQpEpNSEPv0GXJzpajvXoeLURERERFVc1Uq2QUUqzQ7Ozng6fN4PHwcizt3Y+Bgbws7O1tYWVrAzNQExsZVLmwiqkby8vKQkytFZlY2UlPTkJySBlNTE7jWcuF7dImIiIgMRJXNGmvVUNx0ZmVLkJySiqSkZDx6HIuc3Fzk5eXrOzwiqsaMjUUwMzWFpYU5bGysUae2KywtzPUdFhERERFVoCqb7CpZWpgrbkLdauk7FCIiIiIiIqomqsQCVUREREREREQVickuERERERERGRwmu0RERERERGRwmOwSERERERGRwWGyS0RERERERAaHyS4REREREREZHCa7REREREREZHCY7BIREREREZHBYbJLREREREREBkct2TUyMkJBQYG+YiEiIiIiIiIqk4KCAhgZvUhx1ZJdsdgYUqms0oMiIiIiIiIiKg+pVAax2FjYVkt2TU1MkCuVVnpQREREREREROWRK5XC1MRE2FZLdi3MzZCVnVPpQRERERERERGVR1Z2DizMzYRttWTX0tIcWVnZfG6XiIiIiIiIqo2CggJkZWXD0tJcKCuyQJWNtRVS0zIqPTgiIiIiIiKiskhNy4CNtZX2BaoAwN7OBimp6RzdJSIiIiIioiqvoKAAKanpsLezUSsvkuyaU0cDNwAAAaFJREFUmIhha2ONhMSUSguOiIiIiIiIqCwSElNga2MNExOxWnmRZBcAnBztkCuVIi2d05mJiIiIiIioakpLz0CuVAonR7si+zQmuwBQ08UJiUmpyMjMeqnBEREREREREZVWRmYWEpNSUdPFSeN+rcmuiYkYrjWdEZ+QzBFeIiIiIiIiqjLS0jMQn5AM15rORaYvK70il8vlxVUilcrwLD4RpiYmcHayV1vdioiIiIiIiKiyFBQUICExBblSKWq6OGlNdAEdkl2lxKRUpKVnwN7OBna21kx6iYiIiIiIqFIUFBQgNS0DKanpsLWx1viMbmE6J7uAYpQ3JTUd6RmZsLS0gKWFGUxNTGBiImbyS0RERERERBWioKAAUqkMuVIpsrJzkJWVDRtrK9jb2RQ7mquqVMmuasNZWRJkS3KQK5VCJsvje3mJiIiIiIioQhgZGUEsNoapiQkszM1gaWle6gHWMiW7RERERERERFUZ5x4TERERERGRwWGyS0RERERERAaHyS4REREREREZHCa7REREREREZHCY7BIREREREZHB+R/TCOrjo+xl3QAAAABJRU5ErkJggg==)"
      ],
      "metadata": {
        "id": "M1Wb6KiuTrK4"
      }
    },
    {
      "cell_type": "markdown",
      "source": [
        "Better than previous DL model but not as good as the SVC prediction"
      ],
      "metadata": {
        "id": "Keq5xtFeO7xN"
      }
    },
    {
      "cell_type": "markdown",
      "source": [
        "# DL model with Fasttext embedding"
      ],
      "metadata": {
        "id": "-IDs0S3uQmfs"
      }
    },
    {
      "cell_type": "markdown",
      "source": [
        "## installing Fasttext"
      ],
      "metadata": {
        "id": "wml2DnJllVGO"
      }
    },
    {
      "cell_type": "code",
      "source": [
        "pip install fasttext"
      ],
      "metadata": {
        "colab": {
          "base_uri": "https://localhost:8080/"
        },
        "id": "1-gpHy4gTdj7",
        "outputId": "39c4641a-ba7d-4360-fd19-e268000260b9"
      },
      "execution_count": 25,
      "outputs": [
        {
          "output_type": "stream",
          "name": "stdout",
          "text": [
            "Requirement already satisfied: fasttext in /usr/local/lib/python3.7/dist-packages (0.9.2)\n",
            "Requirement already satisfied: pybind11>=2.2 in /usr/local/lib/python3.7/dist-packages (from fasttext) (2.9.1)\n",
            "Requirement already satisfied: numpy in /usr/local/lib/python3.7/dist-packages (from fasttext) (1.21.5)\n",
            "Requirement already satisfied: setuptools>=0.7.0 in /usr/local/lib/python3.7/dist-packages (from fasttext) (57.4.0)\n"
          ]
        }
      ]
    },
    {
      "cell_type": "markdown",
      "source": [
        "## Loading the Fasttext_model with Bidirectional LSTM"
      ],
      "metadata": {
        "id": "9mZOttBgluvT"
      }
    },
    {
      "cell_type": "code",
      "source": [
        "import fasttext.util\n",
        "fasttext.util.download_model('en', if_exists='ignore')  # English\n",
        "ft = fasttext.load_model('cc.en.300.bin')"
      ],
      "metadata": {
        "colab": {
          "base_uri": "https://localhost:8080/"
        },
        "id": "dslvYf2ORFfI",
        "outputId": "a47c5647-e78b-4c62-b519-6ad404ce00a3"
      },
      "execution_count": 27,
      "outputs": [
        {
          "output_type": "stream",
          "name": "stderr",
          "text": [
            "Warning : `load_model` does not return WordVectorModel or SupervisedModel any more, but a `FastText` object which is very similar.\n"
          ]
        }
      ]
    },
    {
      "cell_type": "markdown",
      "source": [
        "## Creating Embedding Matrix"
      ],
      "metadata": {
        "id": "jO216W2LlynK"
      }
    },
    {
      "cell_type": "code",
      "source": [
        "embedding_matrix = np.zeros((vocab_size, 300))\n",
        "for element in train_data.text:\n",
        "  for word, i in my_tokenizer.word_index.items():\n",
        "\t  embedding_vector = ft.get_word_vector(word)\n",
        "\t  if embedding_vector is not None:\n",
        "\t\t  embedding_matrix[i] = embedding_vector\n",
        "Fasttext_Embedding = Embedding(vocab_size, 300, weights=[embedding_matrix], input_length=len(padded_text[1]), trainable=False)"
      ],
      "metadata": {
        "id": "lOn7IQ6DSXeZ"
      },
      "execution_count": 29,
      "outputs": []
    },
    {
      "cell_type": "markdown",
      "source": [
        "## Building the model"
      ],
      "metadata": {
        "id": "fMg7M1ohl1pN"
      }
    },
    {
      "cell_type": "code",
      "source": [
        "from tensorflow.keras.layers import LSTM\n",
        "from tensorflow.keras.layers import Bidirectional\n",
        "# Define the Keras model\n",
        "model_4 = Sequential()\n",
        "model_4.add(Fasttext_Embedding)\n",
        "model_4.add(Bidirectional(LSTM(10), merge_mode='sum'))\n",
        "model_4.add(Dense(1, activation='sigmoid'))\n",
        "# Compile the model\n",
        "model_4.compile(optimizer='adam', loss='binary_crossentropy', metrics=['acc',f1,])\n",
        "# Give a summary\n",
        "model_4.summary()"
      ],
      "metadata": {
        "colab": {
          "base_uri": "https://localhost:8080/"
        },
        "id": "hGHFUB8LXnGK",
        "outputId": "1a01a41b-f38b-4fd0-eaef-a716d8b81683"
      },
      "execution_count": 46,
      "outputs": [
        {
          "output_type": "stream",
          "name": "stdout",
          "text": [
            "Model: \"sequential_8\"\n",
            "_________________________________________________________________\n",
            " Layer (type)                Output Shape              Param #   \n",
            "=================================================================\n",
            " embedding_3 (Embedding)     (None, 27, 300)           4835700   \n",
            "                                                                 \n",
            " bidirectional_2 (Bidirectio  (None, 10)               24880     \n",
            " nal)                                                            \n",
            "                                                                 \n",
            " dense_8 (Dense)             (None, 1)                 11        \n",
            "                                                                 \n",
            "=================================================================\n",
            "Total params: 4,860,591\n",
            "Trainable params: 24,891\n",
            "Non-trainable params: 4,835,700\n",
            "_________________________________________________________________\n"
          ]
        }
      ]
    },
    {
      "cell_type": "markdown",
      "source": [
        "## Fitting"
      ],
      "metadata": {
        "id": "qV2nTanUl5m2"
      }
    },
    {
      "cell_type": "code",
      "source": [
        "model_4.fit(padded_text, train_data.target, epochs = 20,validation_split = 0.2,verbose = 1)\n",
        "loss, accuracy,f1_score = model_4.evaluate(padded_text, train_data.target)\n",
        "print('f1: %f' % (f1_score))\n",
        "print('accuracy: %f' % (accuracy*100))"
      ],
      "metadata": {
        "colab": {
          "base_uri": "https://localhost:8080/"
        },
        "id": "Vuh2ZVD4iULE",
        "outputId": "d63b1189-cb04-4ab3-f14b-7cd95343c453"
      },
      "execution_count": 51,
      "outputs": [
        {
          "output_type": "stream",
          "name": "stdout",
          "text": [
            "Epoch 1/20\n",
            "191/191 [==============================] - 2s 13ms/step - loss: 0.2634 - acc: 0.9110 - f1: 0.8866 - val_loss: 0.7639 - val_acc: 0.7446 - val_f1: 0.6185\n",
            "Epoch 2/20\n",
            "191/191 [==============================] - 2s 9ms/step - loss: 0.2303 - acc: 0.9181 - f1: 0.8959 - val_loss: 0.7516 - val_acc: 0.7518 - val_f1: 0.6342\n",
            "Epoch 3/20\n",
            "191/191 [==============================] - 2s 9ms/step - loss: 0.2118 - acc: 0.9261 - f1: 0.9051 - val_loss: 0.7482 - val_acc: 0.7584 - val_f1: 0.6299\n",
            "Epoch 4/20\n",
            "191/191 [==============================] - 2s 8ms/step - loss: 0.1984 - acc: 0.9317 - f1: 0.9143 - val_loss: 0.7720 - val_acc: 0.7544 - val_f1: 0.6379\n",
            "Epoch 5/20\n",
            "191/191 [==============================] - 2s 8ms/step - loss: 0.1871 - acc: 0.9360 - f1: 0.9205 - val_loss: 0.7782 - val_acc: 0.7492 - val_f1: 0.6394\n",
            "Epoch 6/20\n",
            "191/191 [==============================] - 2s 8ms/step - loss: 0.1814 - acc: 0.9379 - f1: 0.9207 - val_loss: 0.7900 - val_acc: 0.7538 - val_f1: 0.6405\n",
            "Epoch 7/20\n",
            "191/191 [==============================] - 2s 8ms/step - loss: 0.1833 - acc: 0.9333 - f1: 0.9158 - val_loss: 0.8983 - val_acc: 0.7393 - val_f1: 0.6405\n",
            "Epoch 8/20\n",
            "191/191 [==============================] - 2s 9ms/step - loss: 0.1732 - acc: 0.9386 - f1: 0.9236 - val_loss: 0.8447 - val_acc: 0.7472 - val_f1: 0.6505\n",
            "Epoch 9/20\n",
            "191/191 [==============================] - 2s 8ms/step - loss: 0.1791 - acc: 0.9360 - f1: 0.9198 - val_loss: 0.8461 - val_acc: 0.7557 - val_f1: 0.6472\n",
            "Epoch 10/20\n",
            "191/191 [==============================] - 2s 9ms/step - loss: 0.1649 - acc: 0.9419 - f1: 0.9282 - val_loss: 0.8086 - val_acc: 0.7544 - val_f1: 0.6325\n",
            "Epoch 11/20\n",
            "191/191 [==============================] - 2s 8ms/step - loss: 0.1585 - acc: 0.9458 - f1: 0.9316 - val_loss: 0.8075 - val_acc: 0.7564 - val_f1: 0.6307\n",
            "Epoch 12/20\n",
            "191/191 [==============================] - 2s 8ms/step - loss: 0.1610 - acc: 0.9422 - f1: 0.9253 - val_loss: 0.8527 - val_acc: 0.7564 - val_f1: 0.6396\n",
            "Epoch 13/20\n",
            "191/191 [==============================] - 2s 8ms/step - loss: 0.1536 - acc: 0.9465 - f1: 0.9318 - val_loss: 0.8468 - val_acc: 0.7564 - val_f1: 0.6289\n",
            "Epoch 14/20\n",
            "191/191 [==============================] - 2s 8ms/step - loss: 0.1545 - acc: 0.9448 - f1: 0.9294 - val_loss: 0.8879 - val_acc: 0.7492 - val_f1: 0.6370\n",
            "Epoch 15/20\n",
            "191/191 [==============================] - 2s 9ms/step - loss: 0.1554 - acc: 0.9440 - f1: 0.9290 - val_loss: 0.8962 - val_acc: 0.7420 - val_f1: 0.6162\n",
            "Epoch 16/20\n",
            "191/191 [==============================] - 2s 9ms/step - loss: 0.1451 - acc: 0.9488 - f1: 0.9361 - val_loss: 0.8776 - val_acc: 0.7452 - val_f1: 0.6233\n",
            "Epoch 17/20\n",
            "191/191 [==============================] - 2s 8ms/step - loss: 0.1429 - acc: 0.9475 - f1: 0.9336 - val_loss: 0.9160 - val_acc: 0.7433 - val_f1: 0.6259\n",
            "Epoch 18/20\n",
            "191/191 [==============================] - 2s 8ms/step - loss: 0.1423 - acc: 0.9489 - f1: 0.9343 - val_loss: 0.9365 - val_acc: 0.7406 - val_f1: 0.6269\n",
            "Epoch 19/20\n",
            "191/191 [==============================] - 2s 8ms/step - loss: 0.1395 - acc: 0.9493 - f1: 0.9368 - val_loss: 0.9541 - val_acc: 0.7374 - val_f1: 0.6206\n",
            "Epoch 20/20\n",
            "191/191 [==============================] - 2s 8ms/step - loss: 0.1340 - acc: 0.9517 - f1: 0.9383 - val_loss: 0.9593 - val_acc: 0.7406 - val_f1: 0.6172\n",
            "238/238 [==============================] - 1s 4ms/step - loss: 0.2916 - acc: 0.9126 - f1: 0.8438\n",
            "f1: 0.843784\n",
            "accuracy: 91.264939\n"
          ]
        }
      ]
    },
    {
      "cell_type": "markdown",
      "source": [
        "## Creating submission file"
      ],
      "metadata": {
        "id": "Yy1vumWpl7pS"
      }
    },
    {
      "cell_type": "code",
      "source": [
        "predictions = model_4.predict(val_padded_text)"
      ],
      "metadata": {
        "id": "GFLFZtq0idL2"
      },
      "execution_count": 44,
      "outputs": []
    },
    {
      "cell_type": "code",
      "source": [
        "sample_sub=pd.read_csv('/content/drive/My Drive/Parcours_IML/IML_Projet_8/Data/sample_submission.csv')\n",
        "submission=pd.DataFrame()\n",
        "submission['id']=sample_sub.id.values.tolist()\n",
        "submission['target']=np.round(predictions).astype(int)\n",
        "submission.to_csv('/content/drive/My Drive/Parcours_IML/IML_Projet_8/Submission/sub_5.csv',index=False)"
      ],
      "metadata": {
        "id": "oFKCCFGak3aN"
      },
      "execution_count": 45,
      "outputs": []
    },
    {
      "cell_type": "markdown",
      "source": [
        "![image.png](data:image/png;base64,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)"
      ],
      "metadata": {
        "id": "mps7Bih5lPX6"
      }
    },
    {
      "cell_type": "markdown",
      "source": [
        "i haven't been able to improve the score thus the best submission remain the one with the SVC"
      ],
      "metadata": {
        "id": "8UBq0_qJq47M"
      }
    },
    {
      "cell_type": "code",
      "source": [
        ""
      ],
      "metadata": {
        "id": "LITui17Jk64o"
      },
      "execution_count": null,
      "outputs": []
    }
  ]
}